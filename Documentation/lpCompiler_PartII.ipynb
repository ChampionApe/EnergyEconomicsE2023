{
 "cells": [
  {
   "cell_type": "code",
   "execution_count": 1,
   "id": "12d45926-bb79-432c-84a3-94d4bdf2a95a",
   "metadata": {},
   "outputs": [],
   "source": [
    "%run stdPackages.ipynb # this imports a lot of useful packages \n",
    "import base"
   ]
  },
  {
   "cell_type": "markdown",
   "id": "9e056aee-1a3b-4b76-b343-ff688544b70c",
   "metadata": {},
   "source": [
    "# The ```lpBlock``` class - Part II: Compilation and execution"
   ]
  },
  {
   "cell_type": "markdown",
   "id": "b8019c0d-6f1b-4e57-b77d-907636b1b47e",
   "metadata": {},
   "source": [
    "We start by importing the database and the instance of the block with the structured arguments:"
   ]
  },
  {
   "cell_type": "code",
   "execution_count": 2,
   "id": "884c62f3-ab71-495b-9456-b594d3fb75ab",
   "metadata": {},
   "outputs": [],
   "source": [
    "with open(os.path.join(d['data'],'blockPartI'), \"rb\") as file:\n",
    "    block = pickle.load(file)\n",
    "with open(os.path.join(d['data'],'blockPartI_db'), \"rb\") as file:\n",
    "    db = pickle.load(file)"
   ]
  },
  {
   "cell_type": "markdown",
   "id": "8eea212a-7010-413f-9e3a-d43d57dfe4eb",
   "metadata": {},
   "source": [
    "This part II takes you through the compiling process as it may provide some insights into the troubleshooting process - if a model is misspecified. The main compilation function is implemented via the ```__call__(self, execute = None)``` method which can be called using the syntax ```self(execute = None)```. This method runs through five core steps that we go through in the following sections (the kwarg ```execute``` can be passed to only run a subset of the methods):\n",
    "\n",
    ">[**1. compileParameters**](#compile): Takes the arguments that we specified in [**part I**](./lpCompiler_PartI.ipynb) and constructs new components.  \n",
    ">[**2. settingsFromCompiled**](#settings): Extracts some useful meta-data from the compiled data.  \n",
    ">[**3. inferGlobalDomains**](#globalDomains): Uses the compiled elements to establish global indices for the entire model.  \n",
    ">[**4. getDenseArgs**](#denseArgs): Stacks and rearranges the compiled data into large vectors/matrices that are consistent with the shapes that the solver ```scipy.optimize.linprog``` takes as inputs.  \n",
    ">[**5. lp_args**](#lpArgs): Returns the 'denseArgs' as a dictionary of sparse arrays that can be used directly in the solver.  \n",
    ">[**6. High level summary**](#summary): Summarizes the code required to compile and solve the model. "
   ]
  },
  {
   "cell_type": "markdown",
   "id": "e671dcbf-09d9-4b46-aabc-6888a3250c6d",
   "metadata": {},
   "source": [
    "## 0. Part I"
   ]
  },
  {
   "cell_type": "markdown",
   "id": "ce2c6d4d-d463-4026-8b12-203bf00d361a",
   "metadata": {},
   "source": [
    "Part I ends with the model structure added to the lpBlock instance. Specifically, the model structure is added to the dictionary in ```parameters```: "
   ]
  },
  {
   "cell_type": "code",
   "execution_count": 3,
   "id": "14b3dad1-f842-4550-ac21-de42ec4b0d93",
   "metadata": {},
   "outputs": [
    {
     "data": {
      "text/plain": [
       "dict_keys(['c', 'l', 'u', 'b_eq', 'b_ub', 'A_eq', 'A_ub'])"
      ]
     },
     "execution_count": 3,
     "metadata": {},
     "output_type": "execute_result"
    }
   ],
   "source": [
    "block.parameters.keys()"
   ]
  },
  {
   "cell_type": "markdown",
   "id": "12e6ce73-915a-4b45-b6ad-b4a77f3c49a2",
   "metadata": {},
   "source": [
    "Each type (```c,l,u,b_eq,b_ub,A_eq,A_ub```) stores the arguments from earlier in dictionaries as well. Recall that we added a component using the syntax:"
   ]
  },
  {
   "cell_type": "markdown",
   "id": "04c736c3-b786-43ca-9e28-a639b3ba74a7",
   "metadata": {},
   "source": [
    "```python\n",
    "block.add_c(varName = 'E', value = pyDbs.adjMultiIndex.bc(db['mc'], block.globalDomains['E']), component = None, conditions = None)\n",
    "```"
   ]
  },
  {
   "cell_type": "markdown",
   "id": "3f9ba0a9-a9ab-4fe8-9633-c62a9b4ffe33",
   "metadata": {},
   "source": [
    "This is added to ```block.parameters['c']``` with the key tuple ```(varName, component)``` and the value ```value```; in this case:"
   ]
  },
  {
   "cell_type": "code",
   "execution_count": 4,
   "id": "7b850360-8415-4cfa-8f24-ebe03bdfe13d",
   "metadata": {},
   "outputs": [
    {
     "data": {
      "text/plain": [
       "id            h\n",
       "Conv. plant   1    15\n",
       "              2    15\n",
       "Wind turbine  1     5\n",
       "              2     5\n",
       "Name: 0, dtype: int64"
      ]
     },
     "execution_count": 4,
     "metadata": {},
     "output_type": "execute_result"
    }
   ],
   "source": [
    "block.parameters['c'][('E',None)]"
   ]
  },
  {
   "cell_type": "markdown",
   "id": "8f68d509-730c-419d-9544-837b9cab205e",
   "metadata": {},
   "source": [
    "The ```component``` option can be used to define the costs of $E$ in two steps. For instance, say that we want a variation on the model, where a new generator (e.g. Photovoltaics) is added with a cost of 3 in both hours. This can be done by calling:"
   ]
  },
  {
   "cell_type": "markdown",
   "id": "3e21cb3b-747b-4ec5-8edd-bbfaa4b76338",
   "metadata": {},
   "source": [
    "```python\n",
    "block.add_c(varName = 'E', value = pd.Series([3, 3], index = pd.MultiIndex.from_tuples([('PV',1,),('PV',2)], names = ['id','h'])), component = 'added PV')\n",
    "```"
   ]
  },
  {
   "cell_type": "markdown",
   "id": "47011e32-8e2a-41ad-930c-e00e64c211d1",
   "metadata": {},
   "source": [
    "If we had not specified a new ```component``` here, we would instead overwrite the old argument and remove the conventional plant and the wind turbine from the model."
   ]
  },
  {
   "cell_type": "markdown",
   "id": "cb54f2ee-bb07-4fe8-9a72-bd08f8610c5c",
   "metadata": {},
   "source": [
    "## 1. compileParameters <a id='compile'></a>"
   ]
  },
  {
   "cell_type": "code",
   "execution_count": 5,
   "id": "7a9e0fe3-78c5-4969-b90e-bf73626e4dfb",
   "metadata": {},
   "outputs": [],
   "source": [
    "block.compileParameters()"
   ]
  },
  {
   "cell_type": "markdown",
   "id": "fc9a77a2-2733-4361-ae8f-b359b1f20032",
   "metadata": {},
   "source": [
    "The first step of the compilation takes the arguments defined in the ```self.parameters``` dictionary and reshape them into a common structure. We want this common structure because we ultimately need to stack everything in to vectors and matrices, even though the variables/constraints may be defined over different sets / number of sets. Furthermore, we impose this common structure to be able to create a single sort/ordering of all model components.\n",
    "\n",
    "The compilation strategy here boils down to representing all coefficients on variables (e.g. from ```c, l, u```) with a 2-dimensional index: The first level is always called ```_vsymbol``` and simply stores the name of the variable. The second level ```_vindex``` is a 1d representation of whatever domain the variable in question may be defined over. Generally, we use the following nd-to-1d mapping of domains:\n",
    "* If a variable $x$ is a scalar: The variable is defined over no sets. In this case ```_vindex = None```.\n",
    "* If a variable $x[s]$ is defined over a 1d set: In this case ```_vindex = s```.\n",
    "* If a variable $x[s_1,..., s_n]$ is defined over nd sets: In this case ```_vindex``` represents the nd sets as a 1d set of tuples.\n",
    "\n",
    "This step is carried out using the ```base.fIndexVariable(variableName, value, btype = 'v') ``` method. You can see an example of this here:"
   ]
  },
  {
   "cell_type": "code",
   "execution_count": 6,
   "id": "24c4b303-3c16-4007-967b-9cc037e9dbfc",
   "metadata": {},
   "outputs": [
    {
     "data": {
      "text/plain": [
       "_vsymbol  _vindex          \n",
       "E         (1, Conv. plant)     15\n",
       "          (2, Conv. plant)     15\n",
       "          (1, Wind turbine)     5\n",
       "          (2, Wind turbine)     5\n",
       "Name: 0, dtype: int64"
      ]
     },
     "execution_count": 6,
     "metadata": {},
     "output_type": "execute_result"
    }
   ],
   "source": [
    "x = base.fIndexVariable('E', block.parameters['c'][('E',None)])\n",
    "x "
   ]
  },
  {
   "cell_type": "markdown",
   "id": "6e7c4102-4f87-4341-b12b-46ff708c38f7",
   "metadata": {},
   "source": [
    "You may also note that - as we will see later - we have included a simple method that reverses this, i.e. a method that returns the original symbol. This is done by calling ```base.vIndexVariable```:"
   ]
  },
  {
   "cell_type": "code",
   "execution_count": 7,
   "id": "d78f7fab-ee40-4375-a1c9-e85ed8b09cef",
   "metadata": {},
   "outputs": [
    {
     "data": {
      "text/plain": [
       "h  id          \n",
       "1  Conv. plant     15.0\n",
       "2  Conv. plant     15.0\n",
       "1  Wind turbine     5.0\n",
       "2  Wind turbine     5.0\n",
       "dtype: float64"
      ]
     },
     "execution_count": 7,
     "metadata": {},
     "output_type": "execute_result"
    }
   ],
   "source": [
    "base.vIndexVariable(x, 'E', x.index._n) "
   ]
  },
  {
   "cell_type": "markdown",
   "id": "35c5478a-59d5-4d3e-8072-b5647a3ac7ec",
   "metadata": {},
   "source": [
    "We deal with constraint vectors ```b_eq, b_ub``` in a similar manner: They are defined with a 2-dimensional index, where the first level captures the constraint name and the second level a 1d representation of the relevant domain. In our case, for instance, the equilibrium constraint has a vector of zeros defined over the hours in the model:"
   ]
  },
  {
   "cell_type": "code",
   "execution_count": 8,
   "id": "eba8af31-9409-4b99-9f0d-4c2676aea573",
   "metadata": {},
   "outputs": [
    {
     "data": {
      "text/plain": [
       "_eqsymbol    _eqindex\n",
       "equilibrium  1           0\n",
       "             2           0\n",
       "Name: 0, dtype: int64"
      ]
     },
     "execution_count": 8,
     "metadata": {},
     "output_type": "execute_result"
    }
   ],
   "source": [
    "block.compiled['b_eq']['equilibrium']"
   ]
  },
  {
   "cell_type": "markdown",
   "id": "0acb9248-0fab-454e-b063-5cfb821c3c64",
   "metadata": {},
   "source": [
    "Finally, for the coefficient matrices ```A_eq, A_ub```, we reshape them into a combination of the variable and constraint forms outlined above: Thus, they are defined over 4 index levels - the first two levels represents the variable and the last two represents the relevant constraint. In our case, ```A_eq``` for the equilibrium constraint and the variable $E$ is returned as:"
   ]
  },
  {
   "cell_type": "code",
   "execution_count": 9,
   "id": "5f39b1c4-35cf-4c1f-970d-dd3c7137f64d",
   "metadata": {},
   "outputs": [
    {
     "data": {
      "text/plain": [
       "_vsymbol  _vindex            _eqsymbol    _eqindex\n",
       "E         (1, Conv. plant)   equilibrium  1           1\n",
       "          (2, Conv. plant)   equilibrium  2           1\n",
       "          (1, Wind turbine)  equilibrium  1           1\n",
       "          (2, Wind turbine)  equilibrium  2           1\n",
       "dtype: int64"
      ]
     },
     "execution_count": 9,
     "metadata": {},
     "output_type": "execute_result"
    }
   ],
   "source": [
    "block.compiled['A_eq'][('equilibrium','E')]"
   ]
  },
  {
   "cell_type": "markdown",
   "id": "c3db3853-5fce-4b0a-8d57-c1c59abea075",
   "metadata": {},
   "source": [
    "## 2. settingsFromCompiled <a id='settings'></a>"
   ]
  },
  {
   "cell_type": "markdown",
   "id": "a03280d1-c1eb-43dc-a5f4-8cbf26fa148f",
   "metadata": {},
   "source": [
    "This intermediate step collects some meta-data on the model structure. Specifically, we create four attributes: ```allvars, allconstr, alldomains, allconstrdomains```:"
   ]
  },
  {
   "cell_type": "code",
   "execution_count": 10,
   "id": "dc80688f-6d98-4c19-9568-57d267493063",
   "metadata": {},
   "outputs": [],
   "source": [
    "block.settingsFromCompiled()"
   ]
  },
  {
   "cell_type": "markdown",
   "id": "71b0a68b-a23b-447e-a5c4-04698543bf33",
   "metadata": {},
   "source": [
    "1. *```allvars```: The list of variables in the model:*"
   ]
  },
  {
   "cell_type": "code",
   "execution_count": 11,
   "id": "e70c144c-886e-4d58-a79b-e43917f68f1c",
   "metadata": {},
   "outputs": [
    {
     "data": {
      "text/plain": [
       "['D', 'E']"
      ]
     },
     "execution_count": 11,
     "metadata": {},
     "output_type": "execute_result"
    }
   ],
   "source": [
    "block.allvars"
   ]
  },
  {
   "cell_type": "markdown",
   "id": "0c61f534-2285-4730-bbac-74ef9fff01b7",
   "metadata": {},
   "source": [
    "2. *```allconstr```: Dictionary with keys = constraint type (```eq,ub```) and values = lists of constraints:*"
   ]
  },
  {
   "cell_type": "code",
   "execution_count": 12,
   "id": "3f2facd8-110e-4776-b843-8ab37daa312b",
   "metadata": {},
   "outputs": [
    {
     "data": {
      "text/plain": [
       "{'eq': ['equilibrium'], 'ub': []}"
      ]
     },
     "execution_count": 12,
     "metadata": {},
     "output_type": "execute_result"
    }
   ],
   "source": [
    "block.allconstr"
   ]
  },
  {
   "cell_type": "markdown",
   "id": "4fffea98-45b4-490c-8c5f-f2c6479273ee",
   "metadata": {},
   "source": [
    "3. *```alldomains```: Dictionary with keys = variable names and values = list of domains for the relevant variables:*"
   ]
  },
  {
   "cell_type": "code",
   "execution_count": 13,
   "id": "90fd770c-422f-4826-b200-ecc33d233904",
   "metadata": {},
   "outputs": [
    {
     "data": {
      "text/plain": [
       "{'E': ['h', 'id'], 'D': ['c', 'h']}"
      ]
     },
     "execution_count": 13,
     "metadata": {},
     "output_type": "execute_result"
    }
   ],
   "source": [
    "block.alldomains"
   ]
  },
  {
   "cell_type": "markdown",
   "id": "106fd907-e3ed-46d7-9e40-fba2e61ed5ca",
   "metadata": {},
   "source": [
    "4. *```allconstrdomains```: Dictionary with keys = constraint names and values = list of domains for the relevant constraints:*"
   ]
  },
  {
   "cell_type": "code",
   "execution_count": 14,
   "id": "74dfa157-fb80-426c-8f0d-ee0d126672e6",
   "metadata": {},
   "outputs": [
    {
     "data": {
      "text/plain": [
       "{'equilibrium': ['h_constr']}"
      ]
     },
     "execution_count": 14,
     "metadata": {},
     "output_type": "execute_result"
    }
   ],
   "source": [
    "block.allconstrdomains"
   ]
  },
  {
   "cell_type": "markdown",
   "id": "137669af-c808-4c41-a622-8cf5c27ba619",
   "metadata": {},
   "source": [
    "## 3. inferGlobalDomains <a id='globalDomains'></a>"
   ]
  },
  {
   "cell_type": "markdown",
   "id": "16e2d990-a3d3-441b-a898-fa6bd885d252",
   "metadata": {},
   "source": [
    "This step sums up the domains for all variables and constraints. Specifically, we collect four attributes: ```gIndex, globalVariableIndex, globalConstraintIndex, globalMaps```."
   ]
  },
  {
   "cell_type": "code",
   "execution_count": 15,
   "id": "1f6da4f4-3699-4d47-8ff8-43d21658e192",
   "metadata": {},
   "outputs": [],
   "source": [
    "block.inferGlobalDomains()"
   ]
  },
  {
   "cell_type": "markdown",
   "id": "21e6ee7f-7844-412d-a844-a48d6379923e",
   "metadata": {},
   "source": [
    "1. ```gIndex```: This is a dictionary with keys = variable names and values = full indices for the relevant symbol. We collect this \"full index\" for the variables by looking over how the variables are used in ```c,l,u``` vectors *and* how they are used in ```A_eq, A_ub```. This feature is what enables us to rely on *default values* which simplifies how we specify the model structure: For instance, recall from part I that we did not specify anywhere that the lower bound on both $E$ and $D$ was zero; when we solve the model later on, we still have these lower bounds, because we can look up in the ```gIndex``` and fill in zeros on the entire domain of the variables."
   ]
  },
  {
   "cell_type": "code",
   "execution_count": 16,
   "id": "72085e9b-8d52-4e95-a4e3-e0108e25ea18",
   "metadata": {},
   "outputs": [
    {
     "data": {
      "text/plain": [
       "{'D': MultiIndex([('D', ('Consumer 1', 1)),\n",
       "             ('D', ('Consumer 1', 2)),\n",
       "             ('D', ('Consumer 2', 1)),\n",
       "             ('D', ('Consumer 2', 2))],\n",
       "            names=['_vsymbol', '_vindex']),\n",
       " 'E': MultiIndex([('E',  (1, 'Conv. plant')),\n",
       "             ('E', (1, 'Wind turbine')),\n",
       "             ('E',  (2, 'Conv. plant')),\n",
       "             ('E', (2, 'Wind turbine'))],\n",
       "            names=['_vsymbol', '_vindex'])}"
      ]
     },
     "execution_count": 16,
     "metadata": {},
     "output_type": "execute_result"
    }
   ],
   "source": [
    "block.gIndex"
   ]
  },
  {
   "cell_type": "markdown",
   "id": "3d05ac6c-481d-4f95-8a02-793d9595290f",
   "metadata": {},
   "source": [
    "2. ```globalVariableIndex```: Stacks the indices from ```gIndex``` to establish one single index that spans the entire vector $\\mathbf{x}$ that the solver eventually returns as the solution. In our case:"
   ]
  },
  {
   "cell_type": "code",
   "execution_count": 17,
   "id": "ff1bcb20-73e1-4209-9541-a46a0ecb7e9b",
   "metadata": {},
   "outputs": [
    {
     "data": {
      "text/plain": [
       "MultiIndex([('D',   ('Consumer 1', 1)),\n",
       "            ('D',   ('Consumer 1', 2)),\n",
       "            ('D',   ('Consumer 2', 1)),\n",
       "            ('D',   ('Consumer 2', 2)),\n",
       "            ('E',  (1, 'Conv. plant')),\n",
       "            ('E', (1, 'Wind turbine')),\n",
       "            ('E',  (2, 'Conv. plant')),\n",
       "            ('E', (2, 'Wind turbine'))],\n",
       "           names=['_vsymbol', '_vindex'])"
      ]
     },
     "execution_count": 17,
     "metadata": {},
     "output_type": "execute_result"
    }
   ],
   "source": [
    "block.globalVariableIndex"
   ]
  },
  {
   "cell_type": "markdown",
   "id": "2d3a3db3-5cf0-49f6-9759-06afc93fd1be",
   "metadata": {},
   "source": [
    "3. ```globalConstraintIndex```: Does a similar thing to ```globalVariableIndex```, but for the constraints instead (split into equality constraints ('eq') and upper bound constraints ('ub') respectively):"
   ]
  },
  {
   "cell_type": "code",
   "execution_count": 18,
   "id": "dcc61fb9-f030-4c45-a0e1-e5714c085e4e",
   "metadata": {},
   "outputs": [
    {
     "data": {
      "text/plain": [
       "{'eq': MultiIndex([('equilibrium', 1),\n",
       "             ('equilibrium', 2)],\n",
       "            names=['_eqsymbol', '_eqindex']),\n",
       " 'ub': None}"
      ]
     },
     "execution_count": 18,
     "metadata": {},
     "output_type": "execute_result"
    }
   ],
   "source": [
    "block.globalConstraintIndex"
   ]
  },
  {
   "cell_type": "markdown",
   "id": "788d11ce-252c-4040-b269-7c9880cc71be",
   "metadata": {},
   "source": [
    "4. ```globalMaps```: For the three types of global indices - *variables ('v'), equality constraints ('eq'), and upper bound constraints ('ub')* - this defines mappings from our global pandas indices to an integer index. Recall from part I that the solver ```optimize.linprog``` simply works over stacked arrays (without any indices/symbol names). These maps are useful for translating the element in the stacked arrays passed to/from the solver into the indices that we find meaningful."
   ]
  },
  {
   "cell_type": "markdown",
   "id": "bedfe920-423d-4b15-9319-2b60f1dbe830",
   "metadata": {},
   "source": [
    "Consider, for instance, the variables in our model ($D, E$):"
   ]
  },
  {
   "cell_type": "code",
   "execution_count": 19,
   "id": "e067bc8b-bc13-4c75-943d-58f2ccfbcd5c",
   "metadata": {},
   "outputs": [
    {
     "data": {
      "text/plain": [
       "_vsymbol  _vindex          \n",
       "D         (Consumer 1, 1)      0\n",
       "          (Consumer 1, 2)      1\n",
       "          (Consumer 2, 1)      2\n",
       "          (Consumer 2, 2)      3\n",
       "E         (1, Conv. plant)     4\n",
       "          (1, Wind turbine)    5\n",
       "          (2, Conv. plant)     6\n",
       "          (2, Wind turbine)    7\n",
       "dtype: int64"
      ]
     },
     "execution_count": 19,
     "metadata": {},
     "output_type": "execute_result"
    }
   ],
   "source": [
    "block.globalMaps['v']"
   ]
  },
  {
   "cell_type": "markdown",
   "id": "1e678e78-e685-4472-8832-bd6e726337e2",
   "metadata": {},
   "source": [
    "When the solver returns the solution vector $\\mathbf{x}$ as an array, we can use this to extract the $D$ and $E$ vectors ($\\mathbf{x}[0:4]$ and $\\mathbf{x}[4:8]$, respectively). "
   ]
  },
  {
   "cell_type": "markdown",
   "id": "1c0c2f27-520c-45f4-90de-dd087ef62f14",
   "metadata": {},
   "source": [
    "## 4. getDenseArgs <a id='denseArgs'></a>"
   ]
  },
  {
   "cell_type": "markdown",
   "id": "ad357ee5-a62c-4d7d-b1af-8ce1ffc871f0",
   "metadata": {},
   "source": [
    "This final step collects the arguments that we pass to the solver in a dictionary ```self.denseArgs```. It relies on the global indices established in step 3, ```inferGlobalDomains```, to fill in default values when they are missing and stack and sorts the full vectors to get them ready for the ```scipy.optimize.linprog``` solver. The method is called 'dense', because it generally fills in the default values. However, it is important to note that the coefficient matrices ```A_eq, A_ub``` are *still* defined sparsely (i.e. without a lot of the final zeros). This makes the model run much faster, when the size increases."
   ]
  },
  {
   "cell_type": "markdown",
   "id": "8ea7355e-4940-42b7-9102-82af14657b12",
   "metadata": {},
   "source": [
    "This final step collects the arguments that we pass to the solver in a dictionary ```self.denseArgs```. It relies on the global indices established in step 3, ```inferGlobalDomains```, to fill in default values when they are missing and stack and sorts the full vectors to get them ready for the ```scipy.optimize.linprog``` solver. The method is called 'dense', because it generally fills in the default values. However, it is important to note that the coefficient matrices ```A_eq, A_ub``` are *still* defined sparsely (i.e. without a lot of the final zeros). This makes the model run much faster, when the size increases."
   ]
  },
  {
   "cell_type": "code",
   "execution_count": 20,
   "id": "d3d77169-e628-4e95-990f-76b723f6e59f",
   "metadata": {},
   "outputs": [],
   "source": [
    "block.getDenseArgs()"
   ]
  },
  {
   "cell_type": "markdown",
   "id": "c4ec45ca-e2d7-4990-afff-c2e02af17868",
   "metadata": {},
   "source": [
    "For instance, this is the step where you can verify that the lower bound vector ```l``` is filled with zeros, even if we did not specify this in the model structure in part I:"
   ]
  },
  {
   "cell_type": "code",
   "execution_count": 21,
   "id": "16c4ee72-4ac8-4c15-9d00-cc53b92b21ac",
   "metadata": {},
   "outputs": [
    {
     "data": {
      "text/plain": [
       "_vsymbol  _vindex          \n",
       "D         (Consumer 1, 1)      0.0\n",
       "          (Consumer 1, 2)      0.0\n",
       "          (Consumer 2, 1)      0.0\n",
       "          (Consumer 2, 2)      0.0\n",
       "E         (1, Conv. plant)     0.0\n",
       "          (1, Wind turbine)    0.0\n",
       "          (2, Conv. plant)     0.0\n",
       "          (2, Wind turbine)    0.0\n",
       "dtype: float64"
      ]
     },
     "execution_count": 21,
     "metadata": {},
     "output_type": "execute_result"
    }
   ],
   "source": [
    "block.denseArgs['l']"
   ]
  },
  {
   "cell_type": "markdown",
   "id": "104a1c9a-f665-4b6a-bd2a-13085ffa7e11",
   "metadata": {},
   "source": [
    "If we look at the coefficient matrix, however, note that this still does not include a lot of the zeros:"
   ]
  },
  {
   "cell_type": "code",
   "execution_count": 22,
   "id": "c076e98f-e709-4580-b0f7-de683ab17cb5",
   "metadata": {},
   "outputs": [
    {
     "data": {
      "text/plain": [
       "_vsymbol  _vindex            _eqsymbol    _eqindex\n",
       "D         (Consumer 1, 1)    equilibrium  1          -1.0\n",
       "          (Consumer 1, 2)    equilibrium  2          -1.0\n",
       "          (Consumer 2, 1)    equilibrium  1          -1.0\n",
       "          (Consumer 2, 2)    equilibrium  2          -1.0\n",
       "E         (1, Conv. plant)   equilibrium  1           1.0\n",
       "          (2, Conv. plant)   equilibrium  2           1.0\n",
       "          (1, Wind turbine)  equilibrium  1           1.0\n",
       "          (2, Wind turbine)  equilibrium  2           1.0\n",
       "dtype: float64"
      ]
     },
     "execution_count": 22,
     "metadata": {},
     "output_type": "execute_result"
    }
   ],
   "source": [
    "block.denseArgs['A_eq']"
   ]
  },
  {
   "cell_type": "markdown",
   "id": "2f5f79a0-b5e2-4407-8f9f-d348cfa2130a",
   "metadata": {},
   "source": [
    "When we pass this to the solver, this is rearranged into a sparse matrix with rows corresponding to the constraint index and columns as variable indices:"
   ]
  },
  {
   "cell_type": "code",
   "execution_count": 23,
   "id": "967d4c23-3d0b-4bf7-9d13-019e6f4e661e",
   "metadata": {},
   "outputs": [
    {
     "data": {
      "text/plain": [
       "<2x8 sparse matrix of type '<class 'numpy.float64'>'\n",
       "\twith 8 stored elements in COOrdinate format>"
      ]
     },
     "execution_count": 23,
     "metadata": {},
     "output_type": "execute_result"
    }
   ],
   "source": [
    "block.lp_A_eq"
   ]
  },
  {
   "cell_type": "markdown",
   "id": "befd7449-adfb-46f8-929e-8c4a668f2002",
   "metadata": {},
   "source": [
    "This sparse matrix can be printed and inspected by calling:"
   ]
  },
  {
   "cell_type": "code",
   "execution_count": 24,
   "id": "d2553c31-605d-4b74-a7ac-2ab4f19920d9",
   "metadata": {},
   "outputs": [
    {
     "data": {
      "text/plain": [
       "array([[-1.,  0., -1.,  0.,  1.,  1.,  0.,  0.],\n",
       "       [ 0., -1.,  0., -1.,  0.,  0.,  1.,  1.]])"
      ]
     },
     "execution_count": 24,
     "metadata": {},
     "output_type": "execute_result"
    }
   ],
   "source": [
    "block.lp_A_eq.toarray()"
   ]
  },
  {
   "cell_type": "markdown",
   "id": "a4d906af-dd12-4911-abbd-463e6f263324",
   "metadata": {},
   "source": [
    "## 5. lp_args <a id='lpArgs'></a>"
   ]
  },
  {
   "cell_type": "markdown",
   "id": "aa1fbdce-a93c-424c-9a7c-4b770a126c6c",
   "metadata": {},
   "source": [
    "This is the property that the ```___call__``` ultimately returns. It is a dictionary of sparse arguments that can be directly used in the solver:"
   ]
  },
  {
   "cell_type": "code",
   "execution_count": 25,
   "id": "c96bd5d2-45d0-48b3-bd4a-908dea4e48ca",
   "metadata": {},
   "outputs": [
    {
     "data": {
      "text/plain": [
       "{'c': array([-10., -10., -20., -20.,  15.,   5.,  15.,   5.]),\n",
       " 'A_ub': None,\n",
       " 'b_ub': None,\n",
       " 'A_eq': <2x8 sparse matrix of type '<class 'numpy.float64'>'\n",
       " \twith 8 stored elements in COOrdinate format>,\n",
       " 'b_eq': array([0., 0.]),\n",
       " 'bounds': array([[0.  , 0.5 ],\n",
       "        [0.  , 0.5 ],\n",
       "        [0.  , 0.5 ],\n",
       "        [0.  , 0.5 ],\n",
       "        [0.  , 0.5 ],\n",
       "        [0.  , 0.5 ],\n",
       "        [0.  , 0.5 ],\n",
       "        [0.  , 0.25]])}"
      ]
     },
     "execution_count": 25,
     "metadata": {},
     "output_type": "execute_result"
    }
   ],
   "source": [
    "block.lp_args"
   ]
  },
  {
   "cell_type": "markdown",
   "id": "15546e20-9f6c-41d2-9ed9-3031348cb4f5",
   "metadata": {},
   "source": [
    "Thus, we solve the linear model by calling (*the notation ```**dict``` is used to 'unpack' the dictionary to function kwargs*):"
   ]
  },
  {
   "cell_type": "code",
   "execution_count": 26,
   "id": "6ca8c65c-83ee-49fb-b918-c4cd8f6b1335",
   "metadata": {},
   "outputs": [
    {
     "data": {
      "text/plain": [
       "        message: Optimization terminated successfully. (HiGHS Status 7: Optimal)\n",
       "        success: True\n",
       "         status: 0\n",
       "            fun: -12.5\n",
       "              x: [-0.000e+00  0.000e+00  5.000e-01  5.000e-01  0.000e+00\n",
       "                   5.000e-01  2.500e-01  2.500e-01]\n",
       "            nit: 2\n",
       "          lower:  residual: [-0.000e+00  0.000e+00  5.000e-01  5.000e-01\n",
       "                              0.000e+00  5.000e-01  2.500e-01  2.500e-01]\n",
       "                 marginals: [ 0.000e+00  5.000e+00  0.000e+00  0.000e+00\n",
       "                              5.000e+00  0.000e+00  0.000e+00  0.000e+00]\n",
       "          upper:  residual: [ 5.000e-01  5.000e-01  0.000e+00  0.000e+00\n",
       "                              5.000e-01  0.000e+00  2.500e-01  0.000e+00]\n",
       "                 marginals: [ 0.000e+00  0.000e+00 -1.000e+01 -5.000e+00\n",
       "                              0.000e+00 -5.000e+00  0.000e+00 -1.000e+01]\n",
       "          eqlin:  residual: [ 0.000e+00  0.000e+00]\n",
       "                 marginals: [ 1.000e+01  1.500e+01]\n",
       "        ineqlin:  residual: []\n",
       "                 marginals: []\n",
       " mip_node_count: 0\n",
       " mip_dual_bound: 0.0\n",
       "        mip_gap: 0.0"
      ]
     },
     "execution_count": 26,
     "metadata": {},
     "output_type": "execute_result"
    }
   ],
   "source": [
    "sol = optimize.linprog(**block.lp_args)\n",
    "sol"
   ]
  },
  {
   "cell_type": "markdown",
   "id": "a198b046-6726-40bb-85a3-11ccd10dee4c",
   "metadata": {},
   "source": [
    "## 6. High level summary <a id='summary'></a>"
   ]
  },
  {
   "cell_type": "markdown",
   "id": "eea3a148-3080-4165-8583-c246d53785b8",
   "metadata": {},
   "source": [
    "As we mentioned in the outset of this note, the compilation method is summarized by the ```___call__``` method. Thus, we compile and run the model by simply calling:"
   ]
  },
  {
   "cell_type": "code",
   "execution_count": 27,
   "id": "c51551f1-2e6c-4258-92b8-8ee808940635",
   "metadata": {},
   "outputs": [
    {
     "data": {
      "text/plain": [
       "        message: Optimization terminated successfully. (HiGHS Status 7: Optimal)\n",
       "        success: True\n",
       "         status: 0\n",
       "            fun: -12.5\n",
       "              x: [-0.000e+00  0.000e+00  5.000e-01  5.000e-01  0.000e+00\n",
       "                   5.000e-01  2.500e-01  2.500e-01]\n",
       "            nit: 2\n",
       "          lower:  residual: [-0.000e+00  0.000e+00  5.000e-01  5.000e-01\n",
       "                              0.000e+00  5.000e-01  2.500e-01  2.500e-01]\n",
       "                 marginals: [ 0.000e+00  5.000e+00  0.000e+00  0.000e+00\n",
       "                              5.000e+00  0.000e+00  0.000e+00  0.000e+00]\n",
       "          upper:  residual: [ 5.000e-01  5.000e-01  0.000e+00  0.000e+00\n",
       "                              5.000e-01  0.000e+00  2.500e-01  0.000e+00]\n",
       "                 marginals: [ 0.000e+00  0.000e+00 -1.000e+01 -5.000e+00\n",
       "                              0.000e+00 -5.000e+00  0.000e+00 -1.000e+01]\n",
       "          eqlin:  residual: [ 0.000e+00  0.000e+00]\n",
       "                 marginals: [ 1.000e+01  1.500e+01]\n",
       "        ineqlin:  residual: []\n",
       "                 marginals: []\n",
       " mip_node_count: 0\n",
       " mip_dual_bound: 0.0\n",
       "        mip_gap: 0.0"
      ]
     },
     "execution_count": 27,
     "metadata": {},
     "output_type": "execute_result"
    }
   ],
   "source": [
    "optimize.linprog(**block()) # the notation block() is python shorthand for block.__call__()"
   ]
  }
 ],
 "metadata": {
  "kernelspec": {
   "display_name": "Python 3 (ipykernel)",
   "language": "python",
   "name": "python3"
  },
  "language_info": {
   "codemirror_mode": {
    "name": "ipython",
    "version": 3
   },
   "file_extension": ".py",
   "mimetype": "text/x-python",
   "name": "python",
   "nbconvert_exporter": "python",
   "pygments_lexer": "ipython3",
   "version": "3.9.7"
  }
 },
 "nbformat": 4,
 "nbformat_minor": 5
}
