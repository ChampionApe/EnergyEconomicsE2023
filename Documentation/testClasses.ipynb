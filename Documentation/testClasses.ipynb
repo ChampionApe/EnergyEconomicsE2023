{
 "cells": [
  {
   "cell_type": "code",
   "execution_count": 1,
   "id": "c9e1cd6c-f97f-49a8-a778-d3070fad0842",
   "metadata": {
    "tags": []
   },
   "outputs": [],
   "source": [
    "%run stdPackages.ipynb"
   ]
  },
  {
   "cell_type": "markdown",
   "id": "e4848874-75b0-49ae-9d2d-45ba49103b92",
   "metadata": {
    "tags": []
   },
   "source": [
    "# Test implemented classes"
   ]
  },
  {
   "cell_type": "code",
   "execution_count": 2,
   "id": "860887b1-c36f-4367-86b7-e8874e007bb3",
   "metadata": {
    "tags": []
   },
   "outputs": [],
   "source": [
    "from pyDbs import read, readSets, broadcast"
   ]
  },
  {
   "cell_type": "markdown",
   "id": "dcf01bce-0be0-47cd-95bf-0fad3a000521",
   "metadata": {},
   "source": [
    "## ```mBasic```"
   ]
  },
  {
   "cell_type": "code",
   "execution_count": 3,
   "id": "33d886c0-795b-442d-958d-6ac0401ddb43",
   "metadata": {
    "tags": []
   },
   "outputs": [],
   "source": [
    "kwargs = {'variables':  ['Fundamentals', 'Load','Generators_Other'],\n",
    "          'variable2D': ['Generators_FuelMix'],\n",
    "          'scalars': ['Scalars'],\n",
    "          'maps': ['Generators_Categories']}\n",
    "db = read.dbFromWB(os.path.join(d['data'], 'mBasic.xlsx'), kwargs)\n",
    "readSets(db)"
   ]
  },
  {
   "cell_type": "markdown",
   "id": "610ad5a7-f5b6-4cea-b664-3c5ec5a7c9e7",
   "metadata": {},
   "source": [
    "*Run basic model, model with emissionsCap, with RES target:*"
   ]
  },
  {
   "cell_type": "code",
   "execution_count": 4,
   "id": "0550c7d5-ab72-45eb-b0a5-678a8a52b56c",
   "metadata": {
    "tags": []
   },
   "outputs": [
    {
     "name": "stdout",
     "output_type": "stream",
     "text": [
      "Solution status 0: Optimization terminated successfully. (HiGHS Status 7: Optimal)\n",
      "Solution status 0: Optimization terminated successfully. (HiGHS Status 7: Optimal)\n",
      "Solution status 0: Optimization terminated successfully. (HiGHS Status 7: Optimal)\n"
     ]
    }
   ],
   "source": [
    "m = mBasic.mSimple(db)\n",
    "m() # go through standard steps\n",
    "m = mBasic.mEmissionCap(db)\n",
    "m()\n",
    "m = mBasic.mRES(db)\n",
    "m()"
   ]
  },
  {
   "cell_type": "markdown",
   "id": "281ad8b0-0816-490f-9609-91f1ed88e909",
   "metadata": {},
   "source": [
    "## ```mBasicInt```"
   ]
  },
  {
   "cell_type": "markdown",
   "id": "af9f6aa2-ce07-44c6-96d4-5e2c3469c9ca",
   "metadata": {},
   "source": [
    "*Read data:*"
   ]
  },
  {
   "cell_type": "code",
   "execution_count": 5,
   "id": "970109a1-a35b-43b9-91c1-82b939c910b7",
   "metadata": {
    "tags": []
   },
   "outputs": [],
   "source": [
    "kwargs = {'variables': ['Fundamentals', 'Load', 'Generators_Other'], \n",
    "        'variable2D': ['Generators_FuelMix','HourlyVariation'],\n",
    "        'scalars': ['Scalars'],\n",
    "        'maps': ['Generators_Categories']}\n",
    "db = read.dbFromWB(os.path.join(d['data'],'mBasicInt.xlsx'), kwargs)\n",
    "readSets(db)"
   ]
  },
  {
   "cell_type": "markdown",
   "id": "69158655-e525-4a69-a67a-809ed66e25c1",
   "metadata": {},
   "source": [
    "*Run basic model, run with emissionsCap, run with RES target:*"
   ]
  },
  {
   "cell_type": "code",
   "execution_count": 6,
   "id": "26ec3916-584f-4859-907b-67be83e7741e",
   "metadata": {
    "tags": []
   },
   "outputs": [
    {
     "name": "stdout",
     "output_type": "stream",
     "text": [
      "Solution status 0: Optimization terminated successfully. (HiGHS Status 7: Optimal)\n",
      "Solution status 0: Optimization terminated successfully. (HiGHS Status 7: Optimal)\n",
      "Solution status 0: Optimization terminated successfully. (HiGHS Status 7: Optimal)\n"
     ]
    }
   ],
   "source": [
    "m = mBasicInt.mSimple(db)\n",
    "m() # go through standard steps\n",
    "m = mBasicInt.mEmissionCap(db)\n",
    "m()\n",
    "m = mBasicInt.mRES(db)\n",
    "m()"
   ]
  },
  {
   "cell_type": "code",
   "execution_count": 11,
   "id": "73de6743-a215-46f1-a630-c3f46713c7de",
   "metadata": {
    "tags": []
   },
   "outputs": [
    {
     "data": {
      "text/plain": [
       "id\n",
       "Biomass plant    0.39375\n",
       "Coal Plant         0.745\n",
       "NatGas Plant        0.55\n",
       "Wind turbine      0.6375\n",
       "dtype: object"
      ]
     },
     "execution_count": 11,
     "metadata": {},
     "output_type": "execute_result"
    }
   ],
   "source": [
    "m.db['capacityFactor']"
   ]
  },
  {
   "cell_type": "markdown",
   "id": "1e3c7ec0-4b43-4616-bfb5-2ec0b8bb5ffd",
   "metadata": {
    "tags": []
   },
   "source": [
    "## ```mBasicTrade```"
   ]
  },
  {
   "cell_type": "markdown",
   "id": "36f77acb-f143-441d-9354-6f9ccd087387",
   "metadata": {},
   "source": [
    "*Read data:*"
   ]
  },
  {
   "cell_type": "code",
   "execution_count": 12,
   "id": "43f94a4a-2bc5-481c-a860-2cd16c2e9937",
   "metadata": {
    "tags": []
   },
   "outputs": [],
   "source": [
    "kwargs = {'variables': ['Fundamentals', 'Load', 'Generators_Other','TL'], \n",
    "        'variable2D': ['Generators_FuelMix','HourlyVariation'],\n",
    "        'scalars': ['Scalars'],\n",
    "        'maps': ['Generators_Categories','Load_Categories']}\n",
    "db = read.dbFromWB(os.path.join(d['data'],'mBasicTrade.xlsx'), kwargs)\n",
    "readSets(db)"
   ]
  },
  {
   "cell_type": "markdown",
   "id": "10a0c4a9-e110-400f-b48a-8238e776ef4c",
   "metadata": {},
   "source": [
    "*Run basic model, run with emissionsCap, run with RES target; test regulation with separate geographic regulation or common*"
   ]
  },
  {
   "cell_type": "code",
   "execution_count": 14,
   "id": "6293f4ec-e45f-4a53-ad1f-e55eda3d2e8f",
   "metadata": {
    "tags": []
   },
   "outputs": [
    {
     "name": "stdout",
     "output_type": "stream",
     "text": [
      "Solution status 0: Optimization terminated successfully. (HiGHS Status 7: Optimal)\n",
      "Solution status 0: Optimization terminated successfully. (HiGHS Status 7: Optimal)\n",
      "Solution status 0: Optimization terminated successfully. (HiGHS Status 7: Optimal)\n",
      "Solution status 0: Optimization terminated successfully. (HiGHS Status 7: Optimal)\n",
      "Solution status 0: Optimization terminated successfully. (HiGHS Status 7: Optimal)\n"
     ]
    }
   ],
   "source": [
    "m = mBasicTrade.mSimple(db) # initialize using the database 'db' from above.\n",
    "m() # standard steps\n",
    "m = mBasicTrade.mEmissionCap(db)\n",
    "m()\n",
    "m.commonCap = False\n",
    "m()\n",
    "m = mBasicTrade.mRES(db)\n",
    "m()\n",
    "m.commonCap = False\n",
    "m()"
   ]
  },
  {
   "cell_type": "code",
   "execution_count": 26,
   "id": "de3afeb7-b28f-4177-ac28-7d8753b6a5bc",
   "metadata": {
    "tags": []
   },
   "outputs": [
    {
     "data": {
      "text/plain": [
       "g           g_alias   \n",
       "DK          Energy Hub    10\n",
       "Energy Hub  DK            75\n",
       "Name: lineCapacity, dtype: object"
      ]
     },
     "execution_count": 26,
     "metadata": {},
     "output_type": "execute_result"
    }
   ],
   "source": [
    "m.db['lineCapacity']"
   ]
  },
  {
   "cell_type": "code",
   "execution_count": 28,
   "id": "ff100755-07e7-490b-ada6-b9482899ee6b",
   "metadata": {
    "tags": []
   },
   "outputs": [
    {
     "data": {
      "text/plain": [
       "g           h\n",
       "DK          1     3.263158\n",
       "            2     9.560114\n",
       "            3    25.000000\n",
       "            4     3.263158\n",
       "Energy Hub  1     3.000000\n",
       "            2     3.000000\n",
       "            3    23.650000\n",
       "            4     3.000000\n",
       "Name: 0, dtype: float64"
      ]
     },
     "execution_count": 28,
     "metadata": {},
     "output_type": "execute_result"
    }
   ],
   "source": [
    "m.db['marginalSystemCosts']"
   ]
  },
  {
   "cell_type": "code",
   "execution_count": 29,
   "id": "65d54e8f-aa23-40e9-bc4c-9bbca1c9f3e4",
   "metadata": {
    "tags": []
   },
   "outputs": [
    {
     "data": {
      "text/plain": [
       "c\n",
       "Base                    25\n",
       "Flexible                10\n",
       "Consumer, Energy Hub     5\n",
       "Name: MWP, dtype: object"
      ]
     },
     "execution_count": 29,
     "metadata": {},
     "output_type": "execute_result"
    }
   ],
   "source": [
    "m.db['MWP']"
   ]
  },
  {
   "cell_type": "markdown",
   "id": "aebebeff-db55-4a28-8992-71882b9043e9",
   "metadata": {
    "tags": []
   },
   "source": [
    "## ```mBasicPH```"
   ]
  },
  {
   "cell_type": "markdown",
   "id": "83ddd19a-12fc-4ea1-99ef-caaeba9d8603",
   "metadata": {},
   "source": [
    "*Read data:*"
   ]
  },
  {
   "cell_type": "code",
   "execution_count": 9,
   "id": "34d34995-227a-46b9-a8b4-ea956a42faa9",
   "metadata": {
    "tags": []
   },
   "outputs": [],
   "source": [
    "kwargs = {'variables': ['Fundamentals', 'Load', 'TransmissionLines', 'GeneratorsVariables'],\n",
    "        'maps': ['LoadMaps','GeneratorsMaps'],\n",
    "        'variable2D': ['HourlyVariation'],\n",
    "        'scalars': ['Scalars']}\n",
    "db = read.dbFromWB(os.path.join(d['data'],'mBasicPH.xlsx'), kwargs)\n",
    "readSets(db, types = ['variable','set'])"
   ]
  },
  {
   "cell_type": "markdown",
   "id": "3fb137b0-c1bf-42e3-aaab-1faf8cd1fd75",
   "metadata": {},
   "source": [
    "*Test models:*"
   ]
  },
  {
   "cell_type": "code",
   "execution_count": 10,
   "id": "b94d3f9b-0737-4f22-a0c3-23ba5690b18a",
   "metadata": {
    "tags": []
   },
   "outputs": [
    {
     "name": "stdout",
     "output_type": "stream",
     "text": [
      "Solution status 0: Optimization terminated successfully. (HiGHS Status 7: Optimal)\n",
      "Solution status 0: Optimization terminated successfully. (HiGHS Status 7: Optimal)\n",
      "Solution status 0: Optimization terminated successfully. (HiGHS Status 7: Optimal)\n",
      "Solution status 0: Optimization terminated successfully. (HiGHS Status 7: Optimal)\n",
      "Solution status 0: Optimization terminated successfully. (HiGHS Status 7: Optimal)\n"
     ]
    }
   ],
   "source": [
    "m = mBasicPH.mSimple(db) # initialize using the database 'db' from above.\n",
    "m() # standard steps\n",
    "m = mBasicPH.mEmissionCap(db)\n",
    "m()\n",
    "m.commonCap = False\n",
    "m()\n",
    "m = mBasicPH.mRES(db)\n",
    "m()\n",
    "m.commonCap = False\n",
    "m()"
   ]
  },
  {
   "cell_type": "markdown",
   "id": "5c2492b3-9ce2-4a4b-aeb3-5e597ba5c096",
   "metadata": {
    "tags": []
   },
   "source": [
    "## ```mBasicPH_storage```"
   ]
  },
  {
   "cell_type": "code",
   "execution_count": 11,
   "id": "ed28a948-8882-482f-8df6-f3fe8882aa0c",
   "metadata": {
    "tags": []
   },
   "outputs": [],
   "source": [
    "kwargs = {'variables': ['Fundamentals', 'LoadVariables', 'TransmissionLines', 'GeneratorsVariables','StorageVariables'],\n",
    "        'maps': ['LoadMaps','GeneratorsMaps','StorageMaps'],\n",
    "        'variable2D': ['HourlyVariation'],\n",
    "        'scalars': ['Scalars']}\n",
    "db = read.dbFromWB(os.path.join(d['data'],'mBasicPH_storage.xlsx'), kwargs)\n",
    "readSets(db, types = ['variable','set'])"
   ]
  },
  {
   "cell_type": "markdown",
   "id": "62b171b9-68e6-44d5-a63a-1d89de17da3d",
   "metadata": {},
   "source": [
    "*Test model:*"
   ]
  },
  {
   "cell_type": "code",
   "execution_count": 12,
   "id": "f9cb3265-b96e-439a-b8bd-a531a2a516b6",
   "metadata": {
    "tags": []
   },
   "outputs": [
    {
     "name": "stdout",
     "output_type": "stream",
     "text": [
      "Solution status 0: Optimization terminated successfully. (HiGHS Status 7: Optimal)\n",
      "Solution status 0: Optimization terminated successfully. (HiGHS Status 7: Optimal)\n",
      "Solution status 0: Optimization terminated successfully. (HiGHS Status 7: Optimal)\n",
      "Solution status 0: Optimization terminated successfully. (HiGHS Status 7: Optimal)\n",
      "Solution status 0: Optimization terminated successfully. (HiGHS Status 7: Optimal)\n"
     ]
    }
   ],
   "source": [
    "m = mBasicPH_storage.mSimple(db) # initialize using the database 'db' from above.\n",
    "m() # standard steps\n",
    "m = mBasicPH_storage.mEmissionCap(db)\n",
    "m()\n",
    "m.commonCap = False\n",
    "m()\n",
    "m = mBasicPH_storage.mRES(db)\n",
    "m()\n",
    "m.commonCap = False\n",
    "m()"
   ]
  },
  {
   "cell_type": "markdown",
   "id": "28dba905-ec12-4c7c-b361-716af07f325e",
   "metadata": {
    "tags": []
   },
   "source": [
    "## ```mGFBasic```"
   ]
  },
  {
   "cell_type": "code",
   "execution_count": 13,
   "id": "2e485fdb-0134-45c3-b917-eb009e0e4b7c",
   "metadata": {},
   "outputs": [],
   "source": [
    "kwargs = {'variables':  ['Fundamentals', 'Load','Generators_Other'],\n",
    "          'variable2D': ['Generators_FuelMix'],\n",
    "          'scalars': ['Scalars'],\n",
    "          'maps': ['Generators_Categories']}\n",
    "db = read.dbFromWB(os.path.join(d['data'], 'mGFBasic.xlsx'), kwargs)\n",
    "readSets(db)"
   ]
  },
  {
   "cell_type": "markdown",
   "id": "70d8ce8c-09fe-4f0c-beb6-b63038b04df9",
   "metadata": {},
   "source": [
    "*Run basic model, model with emissionsCap, with RES target:*"
   ]
  },
  {
   "cell_type": "code",
   "execution_count": 14,
   "id": "35c813c7-0291-45fc-a999-5994afc90974",
   "metadata": {},
   "outputs": [
    {
     "name": "stdout",
     "output_type": "stream",
     "text": [
      "Solution status 0: Optimization terminated successfully. (HiGHS Status 7: Optimal)\n",
      "Solution status 0: Optimization terminated successfully. (HiGHS Status 7: Optimal)\n",
      "Solution status 0: Optimization terminated successfully. (HiGHS Status 7: Optimal)\n"
     ]
    }
   ],
   "source": [
    "m = mGFBasic.mSimple(db)\n",
    "m() # go through standard steps\n",
    "m = mGFBasic.mEmissionCap(db)\n",
    "m()\n",
    "m = mGFBasic.mRES(db)\n",
    "m()"
   ]
  },
  {
   "cell_type": "markdown",
   "id": "b7ca68f8-d307-49d9-b267-89974455ae9a",
   "metadata": {
    "tags": []
   },
   "source": [
    "## ```mGFInt```"
   ]
  },
  {
   "cell_type": "markdown",
   "id": "dc3813a6-1576-426e-ba9b-0186828a9980",
   "metadata": {},
   "source": [
    "*Read data:*"
   ]
  },
  {
   "cell_type": "code",
   "execution_count": 15,
   "id": "1c0c56ea-35e3-4833-bb5d-1c318224b321",
   "metadata": {
    "tags": []
   },
   "outputs": [],
   "source": [
    "kwargs = {'variables': ['Fundamentals', 'Load', 'Generators_Other'], \n",
    "        'variable2D': ['Generators_FuelMix','HourlyVariation'],\n",
    "        'scalars': ['Scalars'],\n",
    "        'maps': ['Generators_Categories']}\n",
    "db = read.dbFromWB(os.path.join(d['data'],'mGFInt.xlsx'), kwargs)\n",
    "readSets(db)"
   ]
  },
  {
   "cell_type": "markdown",
   "id": "69a8105f-8342-4f4a-95e7-7ecf08d14bfe",
   "metadata": {},
   "source": [
    "*Run basic model, run with emissionsCap, run with RES target:*"
   ]
  },
  {
   "cell_type": "code",
   "execution_count": 16,
   "id": "9aee1bf0-f022-456d-9e78-5b43ceaef3f3",
   "metadata": {},
   "outputs": [
    {
     "name": "stdout",
     "output_type": "stream",
     "text": [
      "Solution status 0: Optimization terminated successfully. (HiGHS Status 7: Optimal)\n",
      "Solution status 0: Optimization terminated successfully. (HiGHS Status 7: Optimal)\n",
      "Solution status 0: Optimization terminated successfully. (HiGHS Status 7: Optimal)\n"
     ]
    }
   ],
   "source": [
    "m = mGFInt.mSimple(db)\n",
    "m() # go through standard steps\n",
    "m = mGFInt.mEmissionCap(db)\n",
    "m()\n",
    "m = mGFInt.mRES(db)\n",
    "m()"
   ]
  },
  {
   "cell_type": "markdown",
   "id": "5a671f73-03cc-426c-b63d-d0fc7743af57",
   "metadata": {
    "tags": []
   },
   "source": [
    "## ```mGFTrade```"
   ]
  },
  {
   "cell_type": "markdown",
   "id": "d8c06d9e-369b-4b4e-b6e8-e2a7681eced6",
   "metadata": {},
   "source": [
    "*Read data:*"
   ]
  },
  {
   "cell_type": "code",
   "execution_count": 17,
   "id": "111a81c5-ede4-4e7a-9d3e-649c31b995f7",
   "metadata": {
    "tags": []
   },
   "outputs": [],
   "source": [
    "kwargs = {'variables': ['Fundamentals', 'Load', 'Generators_Other','TL'], \n",
    "        'variable2D': ['Generators_FuelMix','HourlyVariation'],\n",
    "        'scalars': ['Scalars'],\n",
    "        'maps': ['Generators_Categories','Load_Categories']}\n",
    "db = read.dbFromWB(os.path.join(d['data'],'mGFTrade.xlsx'), kwargs)\n",
    "readSets(db)"
   ]
  },
  {
   "cell_type": "markdown",
   "id": "c30d0fd1-65c2-40ce-a59d-0cd4eb1dfa78",
   "metadata": {},
   "source": [
    "*Run basic model, run with emissionsCap, run with RES target; test regulation with separate geographic regulation or common*"
   ]
  },
  {
   "cell_type": "code",
   "execution_count": 18,
   "id": "a345ec4d-98a0-480e-bc52-9debb61e347a",
   "metadata": {
    "tags": []
   },
   "outputs": [
    {
     "name": "stdout",
     "output_type": "stream",
     "text": [
      "Solution status 0: Optimization terminated successfully. (HiGHS Status 7: Optimal)\n",
      "Solution status 0: Optimization terminated successfully. (HiGHS Status 7: Optimal)\n",
      "Solution status 0: Optimization terminated successfully. (HiGHS Status 7: Optimal)\n",
      "Solution status 0: Optimization terminated successfully. (HiGHS Status 7: Optimal)\n",
      "Solution status 0: Optimization terminated successfully. (HiGHS Status 7: Optimal)\n"
     ]
    }
   ],
   "source": [
    "m = mGFTrade.mSimple(db) # initialize using the database 'db' from above.\n",
    "m() # standard steps\n",
    "m = mGFTrade.mEmissionCap(db)\n",
    "m()\n",
    "m.commonCap = False\n",
    "m()\n",
    "m = mGFTrade.mRES(db)\n",
    "m()\n",
    "m.commonCap = False\n",
    "m()"
   ]
  },
  {
   "cell_type": "markdown",
   "id": "5f10d43d-68c2-4a6e-a7b7-01e0aa204afc",
   "metadata": {
    "tags": []
   },
   "source": [
    "## ```mGFPH```"
   ]
  },
  {
   "cell_type": "markdown",
   "id": "094d6d1f-f5c1-4a28-82e5-9b4c9659b073",
   "metadata": {},
   "source": [
    "*Read data:*"
   ]
  },
  {
   "cell_type": "code",
   "execution_count": 19,
   "id": "2a59a850-3a5c-46cb-ae2a-99fd636c8050",
   "metadata": {
    "tags": []
   },
   "outputs": [],
   "source": [
    "kwargs = {'variables': ['Fundamentals', 'Load', 'TransmissionLines', 'GeneratorsVariables'],\n",
    "        'maps': ['LoadMaps','GeneratorsMaps'],\n",
    "        'variable2D': ['HourlyVariation'],\n",
    "        'scalars': ['Scalars']}\n",
    "db = read.dbFromWB(os.path.join(d['data'],'mGFPH.xlsx'), kwargs)\n",
    "readSets(db, types = ['variable','set'])"
   ]
  },
  {
   "cell_type": "markdown",
   "id": "c8830692-0201-48ec-9773-8544d4e26c75",
   "metadata": {},
   "source": [
    "*Test models:*"
   ]
  },
  {
   "cell_type": "code",
   "execution_count": 20,
   "id": "46e3a06c-277a-480a-9d87-eac4538ebe37",
   "metadata": {
    "tags": []
   },
   "outputs": [
    {
     "name": "stdout",
     "output_type": "stream",
     "text": [
      "Solution status 0: Optimization terminated successfully. (HiGHS Status 7: Optimal)\n",
      "Solution status 0: Optimization terminated successfully. (HiGHS Status 7: Optimal)\n",
      "Solution status 0: Optimization terminated successfully. (HiGHS Status 7: Optimal)\n",
      "Solution status 0: Optimization terminated successfully. (HiGHS Status 7: Optimal)\n",
      "Solution status 0: Optimization terminated successfully. (HiGHS Status 7: Optimal)\n"
     ]
    }
   ],
   "source": [
    "m = mGFPH.mSimple(db) # initialize using the database 'db' from above.\n",
    "m() # standard steps\n",
    "m = mGFPH.mEmissionCap(db)\n",
    "m()\n",
    "m.commonCap = False\n",
    "m()\n",
    "m = mGFPH.mRES(db)\n",
    "m()\n",
    "m.commonCap = False\n",
    "m()"
   ]
  }
 ],
 "metadata": {
  "kernelspec": {
   "display_name": "Python 3 (ipykernel)",
   "language": "python",
   "name": "python3"
  },
  "language_info": {
   "codemirror_mode": {
    "name": "ipython",
    "version": 3
   },
   "file_extension": ".py",
   "mimetype": "text/x-python",
   "name": "python",
   "nbconvert_exporter": "python",
   "pygments_lexer": "ipython3",
   "version": "3.9.7"
  }
 },
 "nbformat": 4,
 "nbformat_minor": 5
}
