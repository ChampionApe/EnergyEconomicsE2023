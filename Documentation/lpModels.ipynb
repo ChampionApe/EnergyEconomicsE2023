{
 "cells": [
  {
   "cell_type": "code",
   "execution_count": 1,
   "id": "bd202421-291f-4a15-af7e-a4cece737fb4",
   "metadata": {},
   "outputs": [],
   "source": [
    "%run stdPackages.ipynb # this imports a lot of useful packages"
   ]
  },
  {
   "cell_type": "markdown",
   "id": "33f6b23c-b30c-4912-8af5-dc35263b999e",
   "metadata": {},
   "source": [
    "# The ```modelShell``` class"
   ]
  },
  {
   "cell_type": "markdown",
   "id": "7975ccb5-5d73-41d6-af30-e54bc431edf9",
   "metadata": {},
   "source": [
    "The ```modelShell``` class is build on top of the ```lpCompiler.lpBlock``` class (see documentation [**Part I**](./lpCompiler_PartI.ipynb) and [**Part II**](./lpCompiler_PartII.ipynb)). It is used as the parent class for all of the linear models used throughout the course. The core functionality is that it establishes a routine of: 1) Perform some to-be-specified 'presolve' routines (```self.preSolve```), 2) set up ```lpBlock``` with a to-be-specified structure, and 3) read and structure the model solution in terms of the same structure as the ```lpBlock```. Specifically, we can write a custom ```postSolve``` routine to go through."
   ]
  },
  {
   "cell_type": "markdown",
   "id": "ef362f12-cd0e-417b-a01e-48ab6130771b",
   "metadata": {},
   "source": [
    "The note is structured as follows:\n",
    "\n",
    ">[**1. Unload Solution**](#unloadToDb): Shows how we can use the ```lpBlock``` model structure to automatically report the solution in terms of variable/constraint names and pandas indices.  \n",
    ">[**2. Create model with block structure**](#modelStructure): Shows an example of how to incorporate the model structure from ```lpBlock``` in the ```modelShell```.  \n",
    ">[**3. Create pre- and post solve routines**](#modelRoutines): The "
   ]
  },
  {
   "cell_type": "markdown",
   "id": "31de1866-db16-41a2-a277-b4942c353d34",
   "metadata": {},
   "source": [
    "## 1. Unload solution to database <a id='unloadToDb'></a>"
   ]
  },
  {
   "cell_type": "markdown",
   "id": "a2541adc-a86f-48a5-b480-7d81adf42f29",
   "metadata": {},
   "source": [
    "We borrow the model structure and database from the documentation of ```lpBlock```:"
   ]
  },
  {
   "cell_type": "code",
   "execution_count": 2,
   "id": "f88c42f0-ece7-48e8-8a4d-091cf71e8bb8",
   "metadata": {},
   "outputs": [],
   "source": [
    "with open(os.path.join(d['data'],'blockPartI'), \"rb\") as file:\n",
    "    block = pickle.load(file)\n",
    "with open(os.path.join(d['data'],'blockPartI_db'), \"rb\") as file:\n",
    "    db = pickle.load(file)"
   ]
  },
  {
   "cell_type": "markdown",
   "id": "9f59a530-9ff4-4835-ac35-21cfda39c90e",
   "metadata": {},
   "source": [
    "Recall that we can solve this model simply by running:"
   ]
  },
  {
   "cell_type": "code",
   "execution_count": 3,
   "id": "99e9f877-bf08-4758-bde8-ce5b1770a1be",
   "metadata": {},
   "outputs": [
    {
     "data": {
      "text/plain": [
       "        message: Optimization terminated successfully. (HiGHS Status 7: Optimal)\n",
       "        success: True\n",
       "         status: 0\n",
       "            fun: -12.5\n",
       "              x: [-0.000e+00  0.000e+00  5.000e-01  5.000e-01  0.000e+00\n",
       "                   5.000e-01  2.500e-01  2.500e-01]\n",
       "            nit: 2\n",
       "          lower:  residual: [-0.000e+00  0.000e+00  5.000e-01  5.000e-01\n",
       "                              0.000e+00  5.000e-01  2.500e-01  2.500e-01]\n",
       "                 marginals: [ 0.000e+00  5.000e+00  0.000e+00  0.000e+00\n",
       "                              5.000e+00  0.000e+00  0.000e+00  0.000e+00]\n",
       "          upper:  residual: [ 5.000e-01  5.000e-01  0.000e+00  0.000e+00\n",
       "                              5.000e-01  0.000e+00  2.500e-01  0.000e+00]\n",
       "                 marginals: [ 0.000e+00  0.000e+00 -1.000e+01 -5.000e+00\n",
       "                              0.000e+00 -5.000e+00  0.000e+00 -1.000e+01]\n",
       "          eqlin:  residual: [ 0.000e+00  0.000e+00]\n",
       "                 marginals: [ 1.000e+01  1.500e+01]\n",
       "        ineqlin:  residual: []\n",
       "                 marginals: []\n",
       " mip_node_count: 0\n",
       " mip_dual_bound: 0.0\n",
       "        mip_gap: 0.0"
      ]
     },
     "execution_count": 3,
     "metadata": {},
     "output_type": "execute_result"
    }
   ],
   "source": [
    "sol = optimize.linprog(**block())\n",
    "sol"
   ]
  },
  {
   "cell_type": "markdown",
   "id": "e1988ed1-d884-4157-9cf2-39653fb6f429",
   "metadata": {},
   "source": [
    "The method ```unloadToDb(self, sol)``` from ```modelShell``` uses the model structure from ```lpBLock``` to restructure the solution in our database. To access this, let us initialize a model with the structure from 'block' and unload the solution to the database:"
   ]
  },
  {
   "cell_type": "code",
   "execution_count": 4,
   "id": "955df9d0-76ce-43b3-a346-5e5805d46a83",
   "metadata": {},
   "outputs": [],
   "source": [
    "model = lpModels.modelShell(db, blocks = block)\n",
    "model.unloadToDb(sol)"
   ]
  },
  {
   "cell_type": "markdown",
   "id": "83ba3cd9-572e-42e2-ae2b-4bdfe0f5f990",
   "metadata": {},
   "source": [
    "This initializes the model and adds the model structure to ```self.blocks```:"
   ]
  },
  {
   "cell_type": "code",
   "execution_count": 5,
   "id": "e5bacb7e-ae18-4d59-aa60-95c3c7a33af3",
   "metadata": {},
   "outputs": [
    {
     "data": {
      "text/plain": [
       "True"
      ]
     },
     "execution_count": 5,
     "metadata": {},
     "output_type": "execute_result"
    }
   ],
   "source": [
    "model.blocks == block"
   ]
  },
  {
   "cell_type": "markdown",
   "id": "6ff25194-199f-4100-a298-fbb0ab6d8eed",
   "metadata": {},
   "source": [
    "First, note that instead of the solution vector $\\mathbf{x}$, the solution is now stored using their variable names $D$ and $E$:"
   ]
  },
  {
   "cell_type": "code",
   "execution_count": 6,
   "id": "a3508e8d-d468-4c3d-93f3-a1e2ab83eadf",
   "metadata": {},
   "outputs": [
    {
     "data": {
      "text/plain": [
       "c           h\n",
       "Consumer 1  1   -0.0\n",
       "            2    0.0\n",
       "Consumer 2  1    0.5\n",
       "            2    0.5\n",
       "dtype: float64"
      ]
     },
     "execution_count": 6,
     "metadata": {},
     "output_type": "execute_result"
    }
   ],
   "source": [
    "model.db['D']"
   ]
  },
  {
   "cell_type": "markdown",
   "id": "de678ee3-0583-41b3-91a5-2eb3bcbf7646",
   "metadata": {},
   "source": [
    "Second, note that we also automatically retrieve the shadow values on the constraints of the problem. These are stored with the syntax \"$\\lambda$\\_z\" for the constraint \"z\". In our case, we had the equilibrium constraint:"
   ]
  },
  {
   "cell_type": "code",
   "execution_count": 7,
   "id": "4cb6f624-040d-49ac-a62b-4291b9f33278",
   "metadata": {},
   "outputs": [
    {
     "data": {
      "text/plain": [
       "h_constr  _type\n",
       "1         eq       10.0\n",
       "2         eq       15.0\n",
       "dtype: float64"
      ]
     },
     "execution_count": 7,
     "metadata": {},
     "output_type": "execute_result"
    }
   ],
   "source": [
    "model.db['λ_equilibrium']"
   ]
  },
  {
   "cell_type": "markdown",
   "id": "f1fdf2a4-e3a1-4d91-a67f-d3a901202beb",
   "metadata": {},
   "source": [
    "The ```_type``` index indicates what type of constraint we are talking about; in this case, an equality constraint. In our case, we also have domain constraints on our two variables $D$, $E$. The shadow values of these domain constraints are also automatically stored with the syntax \"$\\lambda$\\_z\" for the variable \"z\":"
   ]
  },
  {
   "cell_type": "code",
   "execution_count": 8,
   "id": "d192819f-5406-4601-bea2-5e5ee2d10bf6",
   "metadata": {},
   "outputs": [
    {
     "data": {
      "text/plain": [
       "c           h  _type\n",
       "Consumer 1  1  l         0.0\n",
       "            2  l         5.0\n",
       "Consumer 2  1  l         0.0\n",
       "            2  l         0.0\n",
       "Consumer 1  1  u         0.0\n",
       "            2  u         0.0\n",
       "Consumer 2  1  u       -10.0\n",
       "            2  u        -5.0\n",
       "dtype: float64"
      ]
     },
     "execution_count": 8,
     "metadata": {},
     "output_type": "execute_result"
    }
   ],
   "source": [
    "model.db['λ_D']"
   ]
  },
  {
   "cell_type": "markdown",
   "id": "23997737-3182-4616-82be-68dbe8bc0c24",
   "metadata": {},
   "source": [
    "The ```_type``` index indicates whether this is the lower (```l```) or the upper (```u```) bound. "
   ]
  },
  {
   "cell_type": "markdown",
   "id": "9fee6dcb-7c9c-4693-8272-36545ee4e516",
   "metadata": {},
   "source": [
    "## 2. Create model with block structure <a id='modelStructure'></a>"
   ]
  },
  {
   "cell_type": "markdown",
   "id": "b2053b2c-5c07-4fe2-94e2-dca532a38c30",
   "metadata": {},
   "source": [
    "In the example above, we used the ```modelShell``` simply to unload the solution from an ```lpBlock``` in a structured way. However, usually, we will define the ```modelShell``` with an internal model structure. We do this by adding a ```initBlocks``` method to the class. There is not a single way to this, but rather a host of ways. Here, we use a method similar to the ones used throughout the course."
   ]
  },
  {
   "cell_type": "markdown",
   "id": "d79be04a-bfa4-4c0f-b8e3-9452ecd7f3ee",
   "metadata": {},
   "source": [
    "We borrow from the code summary in the [documentation to](./lpCompiler_PartI.ipynb) ```lpCompiler```. Specifically, we define a new model class that uses block structure from previous:"
   ]
  },
  {
   "cell_type": "code",
   "execution_count": 9,
   "id": "feb92b98-0e74-4533-ae1a-1b13a479f92b",
   "metadata": {},
   "outputs": [],
   "source": [
    "_blocks = ('c','l','u','b_eq','b_ub','A_eq','A_ub')\n",
    "class customModel(lpModels.modelShell):\n",
    "    def __init__(self, db, **kwargs):\n",
    "        super().__init__(db, **kwargs) # initialize like the parent class ```modelShell```\n",
    "    @property\n",
    "    def globalDomains(self):\n",
    "        return {'E': pd.MultiIndex.from_product([self.db['id'], self.db['h']]),\n",
    "                'D': pd.MultiIndex.from_product([self.db['c'],  self.db['h']]),\n",
    "                'equilibrium':  self.db['h_constr']}\n",
    "    @property\n",
    "    def c(self):\n",
    "        return [{'varName': 'E', 'value' : pyDbs.broadcast(self.db['mc'], self.globalDomains['E'])},\n",
    "                {'varName': 'D', 'value' : -pyDbs.broadcast(self.db['MWP'], self.globalDomains['D'])}]\n",
    "    @property\n",
    "    def u(self):\n",
    "        return [{'varName': 'E', 'value' : self.db['q']},\n",
    "                {'varName': 'D', 'value' : pyDbs.broadcast(self.db['D̄'], self.globalDomains['D'])}]\n",
    "    @property\n",
    "    def b_eq(self):\n",
    "        return [{'constrName': 'equilibrium'}]\n",
    "    @property\n",
    "    def A_eq(self):\n",
    "        return [{'constrName': 'equilibrium', 'varName': 'E', 'value': base.appIndexWithCopySeries(pd.Series(1, index = self.globalDomains['E']), 'h','h_constr')},\n",
    "                {'constrName': 'equilibrium', 'varName': 'D', 'value': base.appIndexWithCopySeries(pd.Series(-1, index = self.globalDomains['D']), 'h','h_constr')}]\n",
    "    \n",
    "    def initBlocks(self, **kwargs):\n",
    "        [getattr(self.blocks, f'add_{t}')(**v) for t in _blocks if hasattr(self,t) for v in getattr(self,t)];"
   ]
  },
  {
   "cell_type": "markdown",
   "id": "f961100c-529a-478e-99f5-cc3d1aa6665e",
   "metadata": {},
   "source": [
    "This class, ```customModel```, creates the model structure that we otherwise loaded from ```block```, by calling the method ```initBlocks```:"
   ]
  },
  {
   "cell_type": "code",
   "execution_count": 10,
   "id": "745fa685-6890-422d-8c85-ac43dc6991eb",
   "metadata": {},
   "outputs": [],
   "source": [
    "model = customModel(db)\n",
    "model.initBlocks()"
   ]
  },
  {
   "cell_type": "markdown",
   "id": "450db4f8-0f73-40c5-9ced-14e155c2959e",
   "metadata": {},
   "source": [
    "## 3. Create pre- and post solve routines <a id='modelRoutines'></a>"
   ]
  },
  {
   "cell_type": "markdown",
   "id": "260693ac-0563-4f63-a809-25adecae633d",
   "metadata": {},
   "source": [
    "Another way to use the ```modelShell``` class is to use the pre-specified ```__call__``` method: As was the case with the ```lpBlock``` class, this method runs through some \"standard\" steps:\n",
    "1. ```preSolve``` routine (if one is specified),\n",
    "2. ```initBlocks```, if such a method is specified; otherwise, the existing ```self.blocks``` attribute is used as model structure).\n",
    "3. ```solve```: solves the ```self.blocks``` model and runs through a ```postSolve``` routine. The default ```postSolve``` routine is simply to unload the solution to the database (cf. section 1)."
   ]
  },
  {
   "cell_type": "markdown",
   "id": "3d4a32ab-3044-467a-b20a-f68bc6bf25d6",
   "metadata": {},
   "source": [
    "In our case with the ```customModel``` specified above, relying on the ```__call__``` method automatically sets up the model structure, solves the model, and unloads the solution to the database. All this by calling:"
   ]
  },
  {
   "cell_type": "code",
   "execution_count": 11,
   "id": "ac43bcb0-4ebf-4266-84a7-b7b8a68199ae",
   "metadata": {},
   "outputs": [
    {
     "name": "stdout",
     "output_type": "stream",
     "text": [
      "Solution status 0: Optimization terminated successfully. (HiGHS Status 7: Optimal)\n"
     ]
    }
   ],
   "source": [
    "model()"
   ]
  },
  {
   "cell_type": "markdown",
   "id": "ab73d5cd-3663-415f-8556-be17013c21eb",
   "metadata": {},
   "source": [
    "We can specify our own ```preSolve``` and ```postSolve``` methods if there is a standard routine that we want the model to perform. This can be useful, it there are simple equations included in our model that we do not necessarily need in the optimization proces. For instance, say that we had data on the fuels that each of the generators used. \n",
    "\n",
    "Specifically, let $\\mu_{id, f}$ denote GJ of fuel type $f$ that generator $id$ needs to produce 1 GJ of electricity. Similarly, let $\\phi_f$ denote the CO2 intensity for fuel $f$ (i.e. ton of CO2 from 1 GJ of fuel $f$). In this case, we can define the fuel use $F_f$ and total emissions $M$ from the equations:\n",
    "\n",
    "$$\\begin{align}\n",
    "    F_f =& \\sum_{h, id} \\mu_{id,f} \\cdot E_{id,h} \\\\ \n",
    "    M   =& \\sum_f \\phi_f \\cdot F_f.\n",
    "\\end{align}$$"
   ]
  },
  {
   "cell_type": "markdown",
   "id": "e3640fa2-4a9c-42e5-ad41-b08f9f4311da",
   "metadata": {},
   "source": [
    "To see how we include these equations in the model, let us define a small example that is consistent with our current model formulation with two generators (conv. plant and wind turbine):"
   ]
  },
  {
   "cell_type": "code",
   "execution_count": 12,
   "id": "eac5307f-e025-4d13-853b-b46da92b0ca9",
   "metadata": {},
   "outputs": [],
   "source": [
    "model.db['μ'] = pd.Series([1.25, 0], index = pd.MultiIndex.from_tuples([('Conv. plant', 'Coal'), ('Wind turbine', 'Coal')], names = ['id','f']))\n",
    "model.db['ϕ'] = pd.Series([0.09], index = pd.Index(['Coal'], name = 'f'))"
   ]
  },
  {
   "cell_type": "markdown",
   "id": "51cf865f-a2d4-4b4d-88b8-431e2a1deabf",
   "metadata": {},
   "source": [
    "Given the model solution, note that we can simply solve for $F_f$ and $M$ as follows:"
   ]
  },
  {
   "cell_type": "code",
   "execution_count": 21,
   "id": "ed3d29a4-3fa3-4689-9e58-686ee58d55db",
   "metadata": {},
   "outputs": [
    {
     "data": {
      "text/plain": [
       "f\n",
       "Coal    0.3125\n",
       "dtype: float64"
      ]
     },
     "execution_count": 21,
     "metadata": {},
     "output_type": "execute_result"
    }
   ],
   "source": [
    "F = (model.db['E'] * model.db['μ']).groupby('f').sum()\n",
    "M = sum(model.db['ϕ'] * F)\n",
    "F"
   ]
  },
  {
   "cell_type": "markdown",
   "id": "8d70c924-3762-444d-a95b-fa7c9d4eb382",
   "metadata": {},
   "source": [
    "We can make sure that we always report this by adding it to the ```postSolve``` routine. Specifically:"
   ]
  },
  {
   "cell_type": "code",
   "execution_count": 14,
   "id": "e6cbf38a-63b9-4676-b93a-cde43ce48a33",
   "metadata": {},
   "outputs": [],
   "source": [
    "def postSolve(solution, **kwargs):\n",
    "    if solution['status'] == 0: # if optimization is successfull \n",
    "        model.unloadToDb(solution) # standard unload solution\n",
    "        model.db['F'] = (model.db['E'] * model.db['μ']).groupby('f').sum()\n",
    "        model.db['M'] = sum(model.db['ϕ'] * model.db['F'])\n",
    "model.postSolve = postSolve"
   ]
  },
  {
   "cell_type": "markdown",
   "id": "bbe033af-2df8-4820-9634-e279ad7e9903",
   "metadata": {},
   "source": [
    "Now, if we run the standard ```__call__``` method, this automatically computes the fuel and emissions variables"
   ]
  },
  {
   "cell_type": "code",
   "execution_count": 20,
   "id": "3fc9ad51-fe64-4bf4-9ea9-16fc0a4d76b0",
   "metadata": {},
   "outputs": [
    {
     "name": "stdout",
     "output_type": "stream",
     "text": [
      "Solution status 0: Optimization terminated successfully. (HiGHS Status 7: Optimal)\n"
     ]
    },
    {
     "data": {
      "text/plain": [
       "f\n",
       "Coal    0.3125\n",
       "dtype: float64"
      ]
     },
     "execution_count": 20,
     "metadata": {},
     "output_type": "execute_result"
    }
   ],
   "source": [
    "model()\n",
    "model.db['F']"
   ]
  }
 ],
 "metadata": {
  "kernelspec": {
   "display_name": "Python 3 (ipykernel)",
   "language": "python",
   "name": "python3"
  },
  "language_info": {
   "codemirror_mode": {
    "name": "ipython",
    "version": 3
   },
   "file_extension": ".py",
   "mimetype": "text/x-python",
   "name": "python",
   "nbconvert_exporter": "python",
   "pygments_lexer": "ipython3",
   "version": "3.9.7"
  }
 },
 "nbformat": 4,
 "nbformat_minor": 5
}
