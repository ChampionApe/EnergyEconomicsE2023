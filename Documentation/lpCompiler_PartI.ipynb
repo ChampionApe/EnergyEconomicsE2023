{
 "cells": [
  {
   "cell_type": "code",
   "execution_count": null,
   "id": "df4383c7-9d1f-4523-bf7b-bfc065514d40",
   "metadata": {},
   "outputs": [],
   "source": [
    "%run stdPackages.ipynb # this imports a lot of useful packages \n",
    "import base"
   ]
  },
  {
   "cell_type": "markdown",
   "id": "61e35030-eedb-49c2-a939-dd3bd59edf4b",
   "metadata": {},
   "source": [
    "# The ```lpBlock``` class - Part I: Introduction and model structure"
   ]
  },
  {
   "cell_type": "markdown",
   "id": "acc9d8a4-81af-406a-8874-eded565d380d",
   "metadata": {},
   "source": [
    "The ```lpBlock``` class is used to define linear programming (LP) models that can be passed to the solver from ```scipy.optimize.linprog```. The essential functionality, compared to interacting directly with ```linprog``` using stacked arrays is that we formulate the model using variable names and indices. This notebook takes you through the main steps of the ```lpBlock``` method. We draw on a relatively simple model to illustrate the syntax along the way.\n",
    "\n",
    "The note proceeds as follows:\n",
    ">[1. Augmented form LP](#AugLP): Defines mathematical format used in ```scipy.optimize.linprog```.  \n",
    ">[2. Model example](#ModelExample): Defines an example to draw on throughout the rest of the notebook; provides a \"manual\" approach to setting up the augmented-form LP for this model.  \n",
    ">[3. Model specification with lpBlock](#ModelLP): Shows how to use the class ```lpBlock``` to create the model structure from section 2.  \n",
    ">> [3.1. Fundamentals](#ModelLP_Fundamentals): Provides an overview of the fundamental building blocks that we use to create the model based on pandas indices and variable/constraint names.  \n",
    ">> [3.2-3.5. Model components](#ModelLP_componentsStart): Show how to create model components (```c, l, u, b_eq, b_ub, A_eq, A_ub```).  \n",
    ">> [3.6. Code summary](#ModelLP_summary): Shows an overview of the code required to specify the model using ```lpBlock```."
   ]
  },
  {
   "cell_type": "markdown",
   "id": "15f61d71-530d-4913-81d6-e474f73b1ab9",
   "metadata": {},
   "source": [
    "[**Part II**](./lpCompiler_PartII.ipynb) shows how the ```lpBlock``` class compiles the arguments and passes it to the solver."
   ]
  },
  {
   "cell_type": "markdown",
   "id": "93238103-1bca-48d3-a911-8d75860cc8a9",
   "metadata": {},
   "source": [
    "## 1. Augmented form linear programming <a id='AugLP'></a>"
   ]
  },
  {
   "cell_type": "markdown",
   "id": "8a63060d-4843-4bf4-b6ee-8c166b58ff19",
   "metadata": {},
   "source": [
    "The algorithm in ```scipy.optimize.linprog``` solves what we will refer to as an \"augmented form\" of the linear program (as opposed to the \"standard form\" that does not feature explicit equality constraints):\n",
    "\n",
    "$$\\begin{align} \n",
    "    &\\min_{x} \\ c^T\\cdot x \\tag{1A}\\\\ \n",
    "    &A_{ub}\\times x \\leq b_{ub} \\tag{1B}\\\\ \n",
    "    &A_{eq}\\times x  = b_{eq} \\tag{1C}\\\\ \n",
    "    &l\\leq x\\leq u, \\tag{1D}\n",
    "\\end{align}$$\n",
    "where: \n",
    "* $x$ is the vector of choice variables of length ($N$).\n",
    "* $c, l, u$ are coefficient vectors of the same length ($N$).\n",
    "* $b_{eq}, b_{ub}$ are coefficient vectors of lengths $N_{eq}, N_{ub}$, \n",
    "* and $A_{eq}, A_{ub}$ are coefficient matrices of sizes $(N_{eq}\\times N)$ and $(N_{ub} \\times N)$ respectively.\n",
    "\n",
    "We will generally refer to the inequality constraints $l\\leq x \\leq u$ as *domain constraints*, whereas the constraints that combine multiple variables as *variational constraints* (1B-1C). \n",
    "\n",
    "At its core, the ```scipy.optimize.linprog``` takes inputs in the form of arrays (e.g. ```np.arrays```), which means that we have to be careful with the ordering of variables and constraints: The $n$'th element in $c$ represents the same element as the $n$'th elements in $l,u$ and the $n$'th column vectors in $A_{ub}, A_{eq}$. Thus, when solving a model with many different types of constraints and variables, the task of constructing suitable vectors / matrices becomes quite cumbersome. The main objective of the ```lpBlock``` compiler is to make it a bit easier to formulate this type of LP models. "
   ]
  },
  {
   "cell_type": "markdown",
   "id": "990d61c4-9d78-455f-961b-f0970318a855",
   "metadata": {},
   "source": [
    "## 2. Model example <a id='ModelExample'></a>"
   ]
  },
  {
   "cell_type": "markdown",
   "id": "a0a96ad5-774f-43a8-8a5e-b83b7d37e27b",
   "metadata": {},
   "source": [
    "In the following, we will use the model from ```mBasicInt``` to illustrate the way the model works. This model is represented by the optimization problem\n",
    "\n",
    "$$\\begin{align}\n",
    "\\min_{ E_{id,h}, D_{c,h}} -W &= -\\sum_{h} \\left[\\sum_c\\left(\\text{MWP}_c\\cdot D_{c,h}\\right) - \\sum_{id}\\left(\\text{mc}_{id}\\cdot E_{id,h}\\right) \\right] \\tag{2A}\\\\ \n",
    "\\text{s.t. }\\sum_c D_{c,h} &= \\sum_{id} E_{id,h}, \\qquad \\forall h \\tag{2B}\\\\\n",
    "D_{c,h} &\\in[0, \\overline{D}_{c}], \\qquad \\forall c,h \\tag{2C}\\\\ \n",
    "E_{id,h}&\\in[0, q_{id,h}], \\qquad q_{id,h} = q_{id} \\cdot \\gamma_{id,h}, \\qquad \\forall id, h \\tag{2D}\n",
    "\\end{align}$$\n",
    "\n",
    "This system of equations represents maximizing the economic surplus from the electricity market where (*the problem is defined as a minimization problem to make it easier to compare to the augmented-form*):\n",
    "* Consumers (indexed $c$) have a marginal willingness to pay of $\\text{MWP}_c$ per GJ of electricity. They consume $D_{c,h}$ in hour $h$, which is non-negative and below a maximum load $\\overline{D}_c$. \n",
    "* The demand is met by a set of individual generators (indexed $id$) that generates electricity at a marginal cost of $\\text{mc}_{id}$. \n",
    "* Each plant produces $E_{id,h}$ GJ of electricity in hour $h$, which has to be non-negative and cannot exceed their installed capacity $q_{id,h}$. Some plants (like wind and PV) have capacity limits that vary hourly according to some exogenous process ($\\gamma_{id,h}\\in[0,1]$ captures this.)"
   ]
  },
  {
   "cell_type": "markdown",
   "id": "67f9bae1-1f2f-46c2-8dc6-dfe3f3a51fe6",
   "metadata": {},
   "source": [
    "#### A manual approach to set up the augmented-form LP "
   ]
  },
  {
   "cell_type": "markdown",
   "id": "d33693b5-d326-41c8-a72c-82105d3f2f4b",
   "metadata": {},
   "source": [
    "Let us, for simplicity, assume that there are two elements in all of the model sets. For parameter values, assume:"
   ]
  },
  {
   "cell_type": "code",
   "execution_count": null,
   "id": "d954c504-67d3-425a-9ef6-632b57c85105",
   "metadata": {},
   "outputs": [],
   "source": [
    "MWP  = pd.Series([10, 20], index = pd.Index(['Consumer 1','Consumer 2'], name = 'c'))\n",
    "D̄    = pd.Series([0.5, 0.5], index = pd.Index(['Consumer 1','Consumer 2'], name = 'c'))\n",
    "mc   = pd.Series([15, 5], index = pd.Index(['Conv. plant','Wind turbine'], name = 'id'))\n",
    "q_id = pd.Series([0.5, 0.5], index = pd.Index(['Conv. plant', 'Wind turbine'], name = 'id'))\n",
    "γ    = pd.Series([1, 1, 1, 0.5], index = pd.MultiIndex.from_tuples([('Conv. plant',1), ('Wind turbine',1),\n",
    "                                                                    ('Conv. plant',2), ('Wind turbine', 2)],\n",
    "                                                                   names = ['id','h']))\n",
    "q    = q_id * γ"
   ]
  },
  {
   "cell_type": "markdown",
   "id": "67816d7a-dbfc-4631-b4c9-1d1135653920",
   "metadata": {},
   "source": [
    "In this model, we optimize by solving for generation variable ($E_{id,h}$) and demand variables ($D_{c,h}$). In the augmented-form LP notation, this means that we can write the **x** vector by stacking the two:\n",
    "$$\\begin{align}\n",
    "    \\mathbf{x} = \\begin{pmatrix} \\mathbf{E} \\\\ \\mathbf{D} \\end{pmatrix} = \\begin{pmatrix} E_{Conv, 1} \\\\ E_{Wind, 1} \\\\ E_{Conv, 2} \\\\ E_{Wind, 2} \\\\ D_{C1, 1} \\\\ D_{C2, 1} \\\\ D_{C1, 2} \\\\ D_{C2,2} \\end{pmatrix}, \\tag{3A}\n",
    "\\end{align}$$\n",
    "where we have used some notational abbreviations for convenience."
   ]
  },
  {
   "cell_type": "markdown",
   "id": "9e323735-1689-4509-ade7-cf3256d38778",
   "metadata": {},
   "source": [
    "The coefficient vectors **c, l, u** of the augmented form are then defined by:\n",
    "$$\\begin{align}\n",
    "    \\mathbf{c} = \\begin{pmatrix} \\text{mc}_{Conv} \\\\ \\text{mc}_{Wind} \\\\ \\text{mc}_{Conv} \\\\ \\text{mc}_{Wind} \\\\ - \\text{MWP}_{C1} \\\\ - \\text{MWP}_{C2} \\\\ - \\text{MWP}_{C1} \\\\ - \\text{MWP}_{C2} \\end{pmatrix}, \\qquad \\mathbf{l} = \\begin{pmatrix} 0\\\\ 0\\\\0\\\\0\\\\0\\\\0\\\\0\\\\0\\end{pmatrix}, \\qquad \\mathbf{u} = \\begin{pmatrix} q_{Conv, 1} \\\\ q_{Wind, 1} \\\\ q_{Conv, 2} \\\\ q_{Wind, 2} \\\\ \\overline{D}_{C1, 1} \\\\ \\overline{D}_{C2, 1} \\\\ \\overline{D}_{C1, 2} \\\\ \\overline{D}_{C2, 2} \\end{pmatrix} \\tag{3B}\n",
    "\\end{align}$$"
   ]
  },
  {
   "cell_type": "markdown",
   "id": "d0c5e43a-9021-4ef0-b1d8-642ec567d4ed",
   "metadata": {},
   "source": [
    "We can define these vectors \"manually\" e.g. using numpy's ```hstack``` method:"
   ]
  },
  {
   "cell_type": "code",
   "execution_count": null,
   "id": "66968a13-d540-49d7-a529-e7bf16168d6b",
   "metadata": {},
   "outputs": [],
   "source": [
    "c = np.hstack([mc, mc, -MWP, -MWP])\n",
    "l = np.zeros(8)\n",
    "u = np.hstack([q, D̄, D̄])\n",
    "pd.DataFrame({'c':c, 'l':l, 'u':u}) # show the vectors here"
   ]
  },
  {
   "cell_type": "markdown",
   "id": "ae671899-3695-4a3f-93a7-5a2cc5f8f1c4",
   "metadata": {},
   "source": [
    "Finally, we need to deal with the variational constraints. In our case, we have one equilibrium constraint (2B) for each hour ($h$). This translates to the coefficient vector and matrix:\n",
    "\n",
    "$$\\begin{align}\n",
    "    \\mathbf{b}_{eq} = \\begin{pmatrix} 0 \\\\ 0 \\end{pmatrix}, \\qquad \\mathbf{A}_{eq} = \\begin{pmatrix} 1 & 1 & 0 & 0 & -1 & -1 & 0 & 0 \\\\ 0 & 0 & 1 & 1 & 0 & 0 & -1 & -1 \\end{pmatrix}. \\tag{3C}\n",
    "\\end{align}$$\n",
    "\n",
    "Note that the first row in $\\mathbf{A}_{eq}$ picks out generation and demand components for hour $h=1$ and the second row for $h=2$ (when multiplied by $\\mathbf{x}$). We can define these objects \"manually\" as well:"
   ]
  },
  {
   "cell_type": "code",
   "execution_count": null,
   "id": "03cc074e-ca81-4342-951b-f2d0d3b76681",
   "metadata": {},
   "outputs": [],
   "source": [
    "b_eq = np.zeros(2)\n",
    "b_eq "
   ]
  },
  {
   "cell_type": "code",
   "execution_count": null,
   "id": "7f0579dd-96a3-4751-ab88-88244cff1fbd",
   "metadata": {},
   "outputs": [],
   "source": [
    "A_eq = np.array([[1, 1, 0, 0, -1, -1, 0, 0], [0, 0, 1, 1, 0, 0, -1, -1]])\n",
    "A_eq"
   ]
  },
  {
   "cell_type": "markdown",
   "id": "6b7c5323-6a46-4665-84e5-1b04f8bda63d",
   "metadata": {},
   "source": [
    "Now, we can pass the elements to the solver and get the solution:"
   ]
  },
  {
   "cell_type": "code",
   "execution_count": null,
   "id": "c18d1ce6-d6a0-4136-ae13-167e32525de5",
   "metadata": {},
   "outputs": [],
   "source": [
    "sol = optimize.linprog(c, A_eq = A_eq, b_eq = b_eq, bounds = np.vstack([l, u]).T)\n",
    "sol"
   ]
  },
  {
   "cell_type": "markdown",
   "id": "4cef4893-4b58-47da-98be-3ec35073fb8e",
   "metadata": {},
   "source": [
    "## 3. Model specification with ```lpBlock``` <a id='ModelLP'> </a>"
   ]
  },
  {
   "cell_type": "markdown",
   "id": "ce19652f-169c-4dd6-8e03-96006273826a",
   "metadata": {},
   "source": [
    "With a relatively small model, the manual approach outlined above is manageable: However, for a large number of variables and/or larger sets/indices, this becomes a very tedious exercise. In particular, it becomes a large task to keep track of the ordering of variables and constraints along the way. The ```lpBlock``` provides a way to specify the model in terms of variable names and sets (defined as pandas indices). Beyond this, the class also automatically keeps track of the internal ordering of the vectors, it automatically keeps coefficient matrices sparse (important for large models), and it returns solutions that are also split into variable names and sets (instead of one large, stacked numpy array)."
   ]
  },
  {
   "cell_type": "markdown",
   "id": "c1c7e1dc-2fd2-47b1-b617-f6c6815f425f",
   "metadata": {},
   "source": [
    "### 3.1. Fundamentals <a id='ModelLP_Fundamentals'> </a>"
   ]
  },
  {
   "cell_type": "markdown",
   "id": "69203b13-7ce0-45c1-99e3-1ee3271493b7",
   "metadata": {},
   "source": [
    "For the model example above, we have the following fundamentals:\n",
    "* *Sets:* The model is defined using three fundamental sets: Hours ($h$), consumers ($c$), and generators ($id$).\n",
    "* *Variables:* The model solves for two endogenous variables: Generation ($E_{id,h}$) and hourly demand ($E_{c,h}$). \n",
    "* *Parameters/coefficients:* Exogenous to the model, we include parameters: \n",
    "    1. Marginal costs $(\\text{mc}_{id})$, \n",
    "    2. marginal willingness to pay $(\\text{MWP}_c)$,\n",
    "    3. generation capacities $(q_{id,h})$, and \n",
    "    4. maximum load ($\\overline{D}_c$).\n",
    "* *Variational constraints:* We have a single contraint, 'equilibrium', defined over hours ($\\text{equilibrium}_h$).\n",
    "\n",
    "Often, we will also work with a database that collects all of our data. We use a small home-made database package ```pyDbs``` for this purpose, as it has a few build-in features that are useful here."
   ]
  },
  {
   "cell_type": "markdown",
   "id": "1c07ac07-d506-44c8-83b6-f988bfeb8401",
   "metadata": {},
   "source": [
    "#### Create database with fundamentals"
   ]
  },
  {
   "cell_type": "code",
   "execution_count": null,
   "id": "b82d7230-4f4b-4196-a427-67c5a36c3cc6",
   "metadata": {},
   "outputs": [],
   "source": [
    "db = pyDbs.SimpleDB() # initialize empty database"
   ]
  },
  {
   "cell_type": "markdown",
   "id": "c4e6420c-d769-4ebf-a442-620f46009542",
   "metadata": {},
   "source": [
    "*Add parameters that we defined in the manual section:*"
   ]
  },
  {
   "cell_type": "code",
   "execution_count": null,
   "id": "755bbfaa-9a20-44e5-a2b7-b98a2f4ecd1d",
   "metadata": {},
   "outputs": [],
   "source": [
    "db['mc'] = mc\n",
    "db['D̄']  = D̄\n",
    "db['MWP']= MWP\n",
    "db['q']  = q"
   ]
  },
  {
   "cell_type": "markdown",
   "id": "a26f0e08-01f1-4448-8383-f39529061bff",
   "metadata": {},
   "source": [
    "*We can automatically define the sets that are used in the parameters by calling the auxiliary function ```pyDbs.readSets(db)```:*"
   ]
  },
  {
   "cell_type": "code",
   "execution_count": null,
   "id": "1b473ea0",
   "metadata": {},
   "outputs": [],
   "source": [
    "print('Symbols registered in the database: ', db.symbols.keys()) # The symbols in the database are stored as keys\n",
    "                                                                 # in the central dictionary, accessed by db.symbols\n",
    "print('Example symbol \"q\": \\n\\n', db['q'], '\\n')  # The values associated with a symbol can be viewed using a dictionary-style syntax\n",
    "pyDbs.readSets(db)  # This function adds the unique indices in each of the symbol series as separate symbols to the db\n",
    "print('Symbols including the new sets: ', db.symbols.keys())\n",
    "print('Values in the \"id\" set: ', db['id']) # Now we can access the index values using the same syntax"
   ]
  },
  {
   "cell_type": "markdown",
   "id": "7c619b32-03a2-486e-bc5a-a46a8eb57931",
   "metadata": {},
   "source": [
    "Before we proceed, we define a new set called an ```alias``` (borrowed from GAMS syntax). The idea behind an alias is that it provides a new name for the same index - essentially providing a copy of the set. In our case, we add an alias for the hourly set (as we will need it later):"
   ]
  },
  {
   "cell_type": "code",
   "execution_count": null,
   "id": "b200c21d-a674-472c-ab7d-08ac773c1b4b",
   "metadata": {},
   "outputs": [],
   "source": [
    "db.updateAlias(alias = [('h','h_constr')]) # define h_constr as a copy of the index 'h'."
   ]
  },
  {
   "cell_type": "markdown",
   "id": "32fe71c4-53b3-4807-a694-6f27b0580c65",
   "metadata": {},
   "source": [
    "#### Define domains for variables and constraints "
   ]
  },
  {
   "cell_type": "markdown",
   "id": "0e841f41-69cc-4ba7-ac59-e2f93b8b8a6a",
   "metadata": {},
   "source": [
    "Before specifying the model, it is often useful to start by explicitly defining the domains for our variables and constraints (what sets are they defined over). We do not need this step, but it helps clarify things: "
   ]
  },
  {
   "cell_type": "code",
   "execution_count": null,
   "id": "b623925d-ad43-4f48-93cd-36bd6c97c99e",
   "metadata": {},
   "outputs": [],
   "source": [
    "globalDomains = {'E':   pd.MultiIndex.from_product([db['id'], db['h']]),\n",
    "                 'D': pd.MultiIndex.from_product([db['c'], db['h']]),\n",
    "                 'equilibrium':  db['h_constr']}\n",
    "globalDomains"
   ]
  },
  {
   "cell_type": "markdown",
   "id": "707ac8db-a301-4ca1-8d59-c3f3e6389ae1",
   "metadata": {},
   "source": [
    "Note that we state that the constraint 'equilibrium' is defined over the aliased set ```h_constr```. It is, generally, a good convention to always define constraints over aliased sets, as we will often need to distinguish between e.g. what hours refer to the variable in a constraint ($h$) and what refers to the hours in the constraint (```h_constr```). In the context of the present model, the equilibrium constraint is only affected by generation and demand occuring within the same hour, so we can use ```h_constr``` to index the rows of the $A_{eq}$ matrix and let $h$ be part of the index for the columns in the matrix. If the row index doesn't match the column hour index, we know that element in the matrix should be zero."
   ]
  },
  {
   "cell_type": "markdown",
   "id": "140e077e-40d8-4747-8563-eb04a0a0f2dc",
   "metadata": {},
   "source": [
    "### 3.2. Adding components to the ```c``` vector <a id='ModelLP_componentsStart'> </a>"
   ]
  },
  {
   "cell_type": "markdown",
   "id": "acd99ed3-94ee-4636-9181-b9174416eafe",
   "metadata": {},
   "source": [
    "Now that we have defined the fundamentals used in the model (sets, parameters, and domains for variables and constraints), we are ready to specify the model structure. We start by initializing an empty ```lpBlock``` instance with the structure of our 'globalDomains' from above:"
   ]
  },
  {
   "cell_type": "code",
   "execution_count": null,
   "id": "8aeafdf7-5e96-4a67-8b33-48c53ee4967d",
   "metadata": {
    "tags": []
   },
   "outputs": [],
   "source": [
    "block = lpCompiler.lpBlock(globalDomains = globalDomains) # initialize empty instance\n",
    "print(block.parameters)    # view the structure of the block class. As of now, all vectors and matrices are undefined"
   ]
  },
  {
   "cell_type": "markdown",
   "id": "84146096-15e5-468e-9364-b2ff6782a386",
   "metadata": {},
   "source": [
    "Next, we add components to the ```c``` vector using the ```add_c``` method. In our case, we want to add the parameter $\\text{mc}_{id}$, but we want to repeat the marginal costs for all hours e.g. to match the domains in $E_{id,h}$. Expanding one symbol to cover a larger domain is called *broadcasting*, and we can do this calling a simple homemade function ```pyDbs.broadcast```:"
   ]
  },
  {
   "cell_type": "code",
   "execution_count": null,
   "id": "f6fea74d-2ea2-40ce-8cfd-e59c4c867fbb",
   "metadata": {},
   "outputs": [],
   "source": [
    "print('Original \"mc\" structure: \\n\\n', db['mc'], '\\n') # this is our original mc data\n",
    "# broadcast mc to match the larger index from Generation\n",
    "print('Broadcasted structure: \\n\\n', pyDbs.broadcast(db['mc'], block.globalDomains['E'])) "
   ]
  },
  {
   "cell_type": "markdown",
   "id": "6fe31ad1-f0b5-486d-bc00-203293040dde",
   "metadata": {},
   "source": [
    "Similarly, we need a broadcasted version of the marginal willingness to pay for the $D$ variable:"
   ]
  },
  {
   "cell_type": "code",
   "execution_count": null,
   "id": "795c178e-b979-4033-8f8d-a0129fa0dba5",
   "metadata": {},
   "outputs": [],
   "source": [
    "print('Original \"MWP\" structure: \\n\\n', db['MWP'], '\\n') # this is our original MWP data\n",
    "# broadcast MWP to match the larger index from D\n",
    "print('Broadcasted structure: \\n\\n', -pyDbs.broadcast(db['MWP'], block.globalDomains['D']) )"
   ]
  },
  {
   "cell_type": "markdown",
   "id": "bab4b71a-1d57-48c6-880f-e51137495ec1",
   "metadata": {},
   "source": [
    "We can now specify the ```c``` block as follows:"
   ]
  },
  {
   "cell_type": "code",
   "execution_count": null,
   "id": "7ea73fb1-a69b-4fb6-94c1-1168de393b51",
   "metadata": {},
   "outputs": [],
   "source": [
    "block.add_c(varName = 'E', value = pyDbs.broadcast(db['mc'], block.globalDomains['E']), component = None, conditions = None)\n",
    "block.add_c(varName = 'D', value = -pyDbs.broadcast(db['MWP'], block.globalDomains['D']), component = None, conditions = None)"
   ]
  },
  {
   "cell_type": "markdown",
   "id": "9e39b3b9-ebe2-46d8-8a7d-e593300a8b56",
   "metadata": {},
   "source": [
    "> *Remark 1: The ```component = None, conditions = None``` are default options that can be left out here. The ```component``` option is used if we want to add multiple arguments to the 'c'-vector for the specific variable. The ```conditions``` option is used if we want to perform adjustments to the parameter added as ```value```. For instance, maybe this argument only holds for a subset of generators. You can see an example of this in the model class ```mBasicPH```.*\n",
    "\n",
    "> *Remark 2: The method ```add_c``` processes the input ```value``` differently depending on the type of input. If the input is a scalar, it automatically tries to broadcast this number to the domains in ```globalDomains[varName]```. If the input is iterable (e.g. a list or a tuple), it takes the sum over all of the inputs.*\n",
    "\n",
    "> *Remark 3: If the model specification does not explicitly provide a value for $\\mathbf{c}$ for a specific variable (or even just a subset of the domains for a variable), the ```lpBlock``` automatically fills in zeros before solving the model.*  "
   ]
  },
  {
   "cell_type": "code",
   "execution_count": null,
   "id": "717e8841",
   "metadata": {},
   "outputs": [],
   "source": [
    "# unpack and view the updated 'c' vector\n",
    "print('The updated \"c\" vector in our block: \\nmc: \\n', block.parameters['c'][('E', None)])\n",
    "print('MWP: \\n', block.parameters['c'][('D', None)])"
   ]
  },
  {
   "cell_type": "markdown",
   "id": "622e755c-9bb0-48aa-9a0c-026ab49f1186",
   "metadata": {},
   "source": [
    "### 3.3. Adding components to the ```l, u``` vectors"
   ]
  },
  {
   "cell_type": "markdown",
   "id": "3dcf6290-0758-4819-bcbf-e480c5a5ad97",
   "metadata": {},
   "source": [
    "The methods for adding lower and upper bounds to the model are basically the same (but named ```add_l, add_u``` instead). If we do not specify a lower bound for a variable (or even a subset of the domains for a variable), the ```lpBlock``` compiler defaults to using zero in this case. For the upper bound, the default is to use ```np.inf``` (unbounded). For our model, where the lower bound is zero everywhere, this means that we can entirely skip specifying any ```l``` components."
   ]
  },
  {
   "cell_type": "code",
   "execution_count": null,
   "id": "61cb18b1-c899-499a-af72-2b3a84569a74",
   "metadata": {},
   "outputs": [],
   "source": [
    "# block.add_l(varName = 'E', value = 0) # we do not need to specify these lower bounds\n",
    "# block.add_l(varName = 'D', value = 0) "
   ]
  },
  {
   "cell_type": "markdown",
   "id": "2f232ee3-0f8a-4d9b-a616-ff1dfa66cab1",
   "metadata": {},
   "source": [
    "For the upper bounds, we add:"
   ]
  },
  {
   "cell_type": "code",
   "execution_count": null,
   "id": "26e239d2-6125-4621-a53a-2fc5a01e23b0",
   "metadata": {},
   "outputs": [],
   "source": [
    "block.add_u(varName = 'E', value = db['q'])\n",
    "block.add_u(varName = 'D', value = pyDbs.broadcast(db['D̄'], block.globalDomains['D']))"
   ]
  },
  {
   "cell_type": "code",
   "execution_count": null,
   "id": "1d9f9db2",
   "metadata": {},
   "outputs": [],
   "source": [
    "# unpack and view the updated 'u' vector\n",
    "print('The updated \"u\" vector in our block: \\nq: \\n', block.parameters['u'][('E', None)])\n",
    "print('D̄: \\n', block.parameters['u'][('D', None)])"
   ]
  },
  {
   "cell_type": "markdown",
   "id": "bf9823dd-bf1a-4125-b603-7efdb97435b6",
   "metadata": {
    "tags": []
   },
   "source": [
    "### 3.4. Adding components to the ```b_eq, b_ub``` vector"
   ]
  },
  {
   "cell_type": "markdown",
   "id": "241c7821-80b6-40b3-aa2c-69b5f68064c4",
   "metadata": {},
   "source": [
    "The methods for adding parameters to the ```b_eq, b_ub``` vectors are essentially similar to the other vector-methods described above. The only difference is essentially that we use the keyword argument ```constrName``` instead of ```varName``` when we add something. Furthermore, as was the case when we specified the lower bound, the ```lpBlock``` automatically fills in some default values. As our model only includes zeros in ```b_eq``` (the default value), we simply add:"
   ]
  },
  {
   "cell_type": "code",
   "execution_count": null,
   "id": "089a80f8-7816-4734-aa8b-77d0a3fa80cd",
   "metadata": {},
   "outputs": [],
   "source": [
    "block.add_b_eq(constrName = 'equilibrium') "
   ]
  },
  {
   "cell_type": "code",
   "execution_count": null,
   "id": "e586768e",
   "metadata": {},
   "outputs": [],
   "source": [
    "# unpack and view the updated 'b_eq' vector\n",
    "print('The updated \"b_eq\" vector in our block: \\nb_eq: \\n', block.parameters['b_eq']['equilibrium'])"
   ]
  },
  {
   "cell_type": "markdown",
   "id": "889a9075-18ad-4667-9429-bba56eac6888",
   "metadata": {
    "tags": []
   },
   "source": [
    "### 3.5. Adding components to the ```A_eq, A_ub``` matrices <a id='ModelLP_componentsEnd'> </a>"
   ]
  },
  {
   "cell_type": "markdown",
   "id": "e8456909-f1ef-4608-aabb-7ffa231e87b7",
   "metadata": {},
   "source": [
    "Specifying coefficient matrices ```A_eq, A_ub``` is a bit more complicated, the reason simply being that we need to keep track of both variable and constraint indices. \n",
    "\n",
    "Recall from equation (3C) (repeated here for convenience) that the matrix consists of ones for each $E_{id,h}$ for each row $\\text{equilibrium}_{h\\_constr}$ where $h=h\\_constr$\n",
    "\n",
    "$$\\begin{align}\n",
    "    \\mathbf{A}_{eq} = \\begin{pmatrix} 1 & 1 & 0 & 0 & -1 & -1 & 0 & 0 \\\\ 0 & 0 & 1 & 1 & 0 & 0 & -1 & -1 \\end{pmatrix}. \n",
    "\\end{align}$$\n"
   ]
  },
  {
   "cell_type": "markdown",
   "id": "865467cd-5f54-4b2b-a47e-8f8bc46c50ca",
   "metadata": {},
   "source": [
    "We specify this by first creating a suitable pandas series:"
   ]
  },
  {
   "cell_type": "code",
   "execution_count": null,
   "id": "96db9650-e9cf-4a5d-83e8-c72e87ec551d",
   "metadata": {},
   "outputs": [],
   "source": [
    "symbol = pd.Series(1, index = block.globalDomains['E'])\n",
    "symbol # this includes all the ones required in the A_eq matrix"
   ]
  },
  {
   "cell_type": "markdown",
   "id": "d14d63ab-0ab2-4404-88da-2d26f96ed0bc",
   "metadata": {},
   "source": [
    "The small homemade function ```base.appIndexWithCopySeries(symbol, copyLevel, newLevel)``` creates a version of ```symbol``` that has a copy of the index level ```copyLevel``` called ```newLevel```. In this case, we specify that the ones in the symbol has to be for all cases where $h = h\\_constr$:"
   ]
  },
  {
   "cell_type": "code",
   "execution_count": null,
   "id": "6d584a91-f384-4f11-b670-52ba9d0a58a1",
   "metadata": {},
   "outputs": [],
   "source": [
    "equiGen_Series = base.appIndexWithCopySeries(symbol, 'h','h_constr')\n",
    "equiGen_Series"
   ]
  },
  {
   "cell_type": "markdown",
   "id": "eaea9fac-e0a7-498c-bb33-ce21dabb30cc",
   "metadata": {},
   "source": [
    "The important part to notice here is that if we \"unstack\" this to a dataframe with columns defined as the constraint index, we arrive at the relevant ```A_eq``` matrix (this is essentially what the compiler does under the hood):"
   ]
  },
  {
   "cell_type": "code",
   "execution_count": null,
   "id": "4b2d9a97-9f59-41d9-bb26-ec50d4c48542",
   "metadata": {},
   "outputs": [],
   "source": [
    "equiGen_Series.unstack(block.globalDomains['equilibrium'].names).fillna(0)"
   ]
  },
  {
   "cell_type": "markdown",
   "id": "8af17b95-d404-453a-9e6b-fcee5586572e",
   "metadata": {},
   "source": [
    "Similarly, for the demand part, we add:"
   ]
  },
  {
   "cell_type": "code",
   "execution_count": null,
   "id": "987e2b6b-f92b-4364-8757-0f7ddf8263ac",
   "metadata": {},
   "outputs": [],
   "source": [
    "equiDem_Series = base.appIndexWithCopySeries(pd.Series(-1, index = block.globalDomains['D']), 'h','h_constr')\n",
    "equiDem_Series"
   ]
  },
  {
   "cell_type": "markdown",
   "id": "82920e48-2cf4-4080-88fd-cbb276975599",
   "metadata": {},
   "source": [
    "We add these to the components in ```A_eq``` using the syntax:"
   ]
  },
  {
   "cell_type": "code",
   "execution_count": null,
   "id": "27e58f2a-52db-4347-b651-18e5eaff8c82",
   "metadata": {},
   "outputs": [],
   "source": [
    "block.add_A_eq(constrName = 'equilibrium', varName = 'E', value = equiGen_Series)\n",
    "block.add_A_eq(constrName = 'equilibrium', varName = 'D', value = equiDem_Series)"
   ]
  },
  {
   "cell_type": "code",
   "execution_count": null,
   "id": "7f50c83a",
   "metadata": {},
   "outputs": [],
   "source": [
    "# unpack and view the updated 'A_eq' vector\n",
    "print('The updated \"A_eq\" vector in our block: \\nA_eq - E: \\n', block.parameters['A_eq'][('equilibrium', 'E', None)])\n",
    "print('A_eq - D : \\n', block.parameters['A_eq'][('equilibrium', 'D', None)])"
   ]
  },
  {
   "cell_type": "markdown",
   "id": "0b537962-431e-4b97-ae00-63b080658d60",
   "metadata": {},
   "source": [
    "### 3.6. High level summary of code <a id='ModelLP_summary'> </a>"
   ]
  },
  {
   "cell_type": "markdown",
   "id": "47dff2d1-bb35-4b21-809c-90ad52063c5d",
   "metadata": {},
   "source": [
    "As this is meant as a documentation of how to use the code, the previous subsections may make it look incredibly difficult to apply this framework. So, to mitigate this, we end with a summary of what we need to specify this model from scratch:"
   ]
  },
  {
   "cell_type": "markdown",
   "id": "f41e3e86-7e36-4cec-9cab-2e9e84810715",
   "metadata": {},
   "source": [
    "*Create database (not necessary, but nice to have all data in one place):*"
   ]
  },
  {
   "cell_type": "code",
   "execution_count": null,
   "id": "f6aee622-00de-4882-a56a-c9dfee98ec26",
   "metadata": {},
   "outputs": [],
   "source": [
    "db = pyDbs.SimpleDB(alias = [('h','h_constr')]) # initialize db with 'h_constr' as an alias of 'h'\n",
    "db['mc']  = mc\n",
    "db['D̄']   = D̄\n",
    "db['MWP'] = MWP\n",
    "db['q']   = q\n",
    "pyDbs.readSets(db)"
   ]
  },
  {
   "cell_type": "markdown",
   "id": "6445a2e4-86ed-4f83-869a-4b621f9fef8b",
   "metadata": {},
   "source": [
    "*Specify domains for variables and constraints:*"
   ]
  },
  {
   "cell_type": "code",
   "execution_count": null,
   "id": "45cbb2f8-34ce-484f-975a-542cc383b9b2",
   "metadata": {},
   "outputs": [],
   "source": [
    "globalDomains = {'E':   pd.MultiIndex.from_product([db['id'], db['h']]),\n",
    "                 'D': pd.MultiIndex.from_product([db['c'], db['h']]),\n",
    "                 'equilibrium':  db['h_constr']}"
   ]
  },
  {
   "cell_type": "markdown",
   "id": "ab956e0d-f177-46f3-ad1f-9fd40d799753",
   "metadata": {},
   "source": [
    "*Create lpBlock instance with model structure*"
   ]
  },
  {
   "cell_type": "code",
   "execution_count": null,
   "id": "f000886c-022c-4572-9be9-db25a4468a01",
   "metadata": {
    "tags": []
   },
   "outputs": [],
   "source": [
    "block = lpCompiler.lpBlock(globalDomains = globalDomains) # initialize empty instance\n",
    "# Add c-vector:\n",
    "block.add_c(varName = 'E', value = pyDbs.broadcast(db['mc'], block.globalDomains['E']))\n",
    "block.add_c(varName = 'D', value = -pyDbs.broadcast(db['MWP'], block.globalDomains['D']))\n",
    "# add bounds:\n",
    "block.add_u(varName = 'E', value = db['q'])\n",
    "block.add_u(varName = 'D', value = pyDbs.broadcast(db['D̄'], block.globalDomains['D']))\n",
    "# add constraints:\n",
    "block.add_b_eq(constrName = 'equilibrium') \n",
    "block.add_A_eq(constrName = 'equilibrium', varName = 'E', value = base.appIndexWithCopySeries(pd.Series(1, index = block.globalDomains['E']), 'h','h_constr'))\n",
    "block.add_A_eq(constrName = 'equilibrium', varName = 'D', value = base.appIndexWithCopySeries(pd.Series(-1, index = block.globalDomains['D']), 'h','h_constr'))"
   ]
  },
  {
   "cell_type": "markdown",
   "id": "2bd58e15-9bd0-44d8-a387-bd20f2d42fdb",
   "metadata": {},
   "source": [
    "*Compile model and pass to solver by running:*"
   ]
  },
  {
   "cell_type": "code",
   "execution_count": null,
   "id": "32a46641-3c60-400d-8042-26b7a1a425eb",
   "metadata": {},
   "outputs": [],
   "source": [
    "# sol = optimize.linprog(**block())\n",
    "# sol"
   ]
  },
  {
   "cell_type": "markdown",
   "id": "1db2c0f7-f7f7-45bb-a5cf-35b0806c2c7f",
   "metadata": {},
   "source": [
    "*Export the model and database to use in the next part:*"
   ]
  },
  {
   "cell_type": "code",
   "execution_count": null,
   "id": "b2ce4d53-d684-4dfb-a8ad-df86be31f0fa",
   "metadata": {},
   "outputs": [],
   "source": [
    "with open(os.path.join(d['data'], 'blockPartI'), \"wb\") as file:\n",
    "    pickle.dump(block, file)\n",
    "with open(os.path.join(d['data'], 'blockPartI_db'), \"wb\") as file:\n",
    "    pickle.dump(db, file)"
   ]
  },
  {
   "cell_type": "markdown",
   "id": "edd0735b-a532-4e6b-9fe6-22fc6d8bbd96",
   "metadata": {},
   "source": [
    "*Proceed to [**Part II**](./lpCompiler_PartII.ipynb) to check out the compilation phase.*"
   ]
  }
 ],
 "metadata": {
  "kernelspec": {
   "display_name": "Python 3 (ipykernel)",
   "language": "python",
   "name": "python3"
  },
  "language_info": {
   "codemirror_mode": {
    "name": "ipython",
    "version": 3
   },
   "file_extension": ".py",
   "mimetype": "text/x-python",
   "name": "python",
   "nbconvert_exporter": "python",
   "pygments_lexer": "ipython3",
   "version": "3.9.7"
  }
 },
 "nbformat": 4,
 "nbformat_minor": 5
}
