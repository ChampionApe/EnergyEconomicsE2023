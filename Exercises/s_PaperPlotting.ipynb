{
 "cells": [
  {
   "cell_type": "markdown",
   "metadata": {},
   "source": [
    "*Import packages:*"
   ]
  },
  {
   "cell_type": "code",
   "execution_count": 2,
   "metadata": {},
   "outputs": [],
   "source": [
    "import matplotlib as mpl, matplotlib.pyplot as plt, pandas as pd, math, os, sys, seaborn as sns\n",
    "from cycler import cycler\n",
    "%matplotlib inline"
   ]
  },
  {
   "cell_type": "markdown",
   "metadata": {},
   "source": [
    "*Theme styles:*"
   ]
  },
  {
   "cell_type": "code",
   "execution_count": 3,
   "metadata": {},
   "outputs": [],
   "source": [
    "plt.style.use('seaborn-v0_8-paper')"
   ]
  },
  {
   "cell_type": "markdown",
   "metadata": {},
   "source": [
    "*pgf settings:*"
   ]
  },
  {
   "cell_type": "code",
   "execution_count": 4,
   "metadata": {},
   "outputs": [],
   "source": [
    "def print_pgf():\n",
    "    mpl.use(\"pgf\")\n",
    "    mpl.rcParams.update({\n",
    "        \"pgf.texsystem\": \"pdflatex\",\n",
    "        'font.family': 'serif',\n",
    "        'font.serif': ['Times New Roman'] + plt.rcParams['font.serif'],\n",
    "        'mathtext.fontset': 'cm',\n",
    "        'text.usetex': True,\n",
    "        'pgf.rcfonts': False,\n",
    "        'font.size': 8,\n",
    "        \"axes.grid\":True,\n",
    "        \"axes.grid.axis\": \"y\",\n",
    "        'axes.spines.right': False,\n",
    "        'axes.spines.top':False,\n",
    "        \"grid.color\":\"black\",\n",
    "        \"grid.alpha\":\"0.25\",\n",
    "        \"grid.linestyle\":\"--\",\n",
    "    })\n",
    "    plt.rc(\"savefig\", dpi=200)\n",
    "    plt.rc(\"legend\", loc=\"best\", fontsize=12, frameon=True, fancybox=False, framealpha=0.5)\n",
    "    plt.rc(\"lines\", linewidth=1.5, markersize=5, markeredgewidth=1.5)"
   ]
  },
  {
   "cell_type": "markdown",
   "metadata": {},
   "source": [
    "*Get colors:*"
   ]
  },
  {
   "cell_type": "code",
   "execution_count": 6,
   "metadata": {},
   "outputs": [],
   "source": [
    "colors = ['k','b','r','g','c']\n",
    "line_cycler   = (cycler(color=colors) +\n",
    "                 cycler(linestyle=[\"-\", \"--\", \"-.\", \"--\", \"-\"]) +\n",
    "                 cycler(marker=[\"none\", \"none\", \"none\", \"none\",\"none\"]))\n",
    "marker_cycler = (cycler(color=colors) +\n",
    "                 cycler(linestyle=[\"-\", \"-\", \"--\", '-', '-']) +\n",
    "                 cycler(marker=[\".\", \"^\", \"+\", \"s\",\"|\"]))\n",
    "bar_cycler = cycler('color',colors)\n",
    "area_cycler = cycler('color',['gray','b','r','g','c'])"
   ]
  },
  {
   "cell_type": "code",
   "execution_count": null,
   "metadata": {},
   "outputs": [],
   "source": [
    "beamer_w = (128-25)*0.0393700787\n",
    "beamer_h = (96-40)*0.0393700787\n",
    "scale = 1"
   ]
  },
  {
   "cell_type": "markdown",
   "metadata": {},
   "source": [
    "*User specific settings:*"
   ]
  },
  {
   "cell_type": "code",
   "execution_count": 7,
   "metadata": {},
   "outputs": [],
   "source": [
    "def one_graph():\n",
    "    plt.rcParams['figure.constrained_layout.use'] = False\n",
    "    mpl.rcParams['figure.figsize'] = [beamer_w*scale,beamer_h*scale]\n",
    "    mpl.rcParams['font.size'] = 11\n",
    "    mpl.rcParams['axes.labelsize'] = 11  # fontsize of the x and y labels\n",
    "    mpl.rcParams['xtick.labelsize'] = 11 # fontsize of the xtick labels\n",
    "    mpl.rcParams['ytick.labelsize'] = 11 # fontsize of the ytick labels\n",
    "    mpl.rcParams['axes.titlesize'] = 11 # fontsize of title above subplots\n",
    "    mpl.rcParams['legend.fontsize'] = 11 # legend fontsize"
   ]
  },
  {
   "cell_type": "code",
   "execution_count": 8,
   "metadata": {},
   "outputs": [],
   "source": [
    "def two_graphs():\n",
    "    plt.rcParams['figure.constrained_layout.use'] = True\n",
    "    mpl.rcParams['figure.figsize'] = [beamer_w*scale,beamer_h*scale]\n",
    "    mpl.rcParams['font.size'] = 9\n",
    "    mpl.rcParams['axes.labelsize'] = 9  # fontsize of the x and y labels\n",
    "    mpl.rcParams['xtick.labelsize'] = 9 #10 # fontsize of the xtick labels\n",
    "    mpl.rcParams['ytick.labelsize'] = 9 #10 # fontsize of the ytick labels\n",
    "    mpl.rcParams['axes.titlesize'] = 10 # fontsize of title above subplots\n",
    "    mpl.rcParams['legend.fontsize'] = 9 # legend fontsize"
   ]
  },
  {
   "cell_type": "code",
   "execution_count": null,
   "metadata": {},
   "outputs": [],
   "source": [
    "def three_graphs():\n",
    "    plt.rcParams['figure.constrained_layout.use'] = True\n",
    "    mpl.rcParams['figure.figsize'] = [beamer_w*scale,beamer_h*scale*0.9]\n",
    "    mpl.rcParams['font.size'] = 9\n",
    "    mpl.rcParams['axes.labelsize'] = 9  # fontsize of the x and y labels\n",
    "    mpl.rcParams['xtick.labelsize'] = 9 #10 # fontsize of the xtick labels\n",
    "    mpl.rcParams['ytick.labelsize'] = 9 #10 # fontsize of the ytick labels\n",
    "    mpl.rcParams['axes.titlesize'] = 10 # fontsize of title above subplots\n",
    "    mpl.rcParams['legend.fontsize'] = 9 # legend fontsize"
   ]
  },
  {
   "cell_type": "code",
   "execution_count": 9,
   "metadata": {},
   "outputs": [],
   "source": [
    "def four_graphs():\n",
    "    plt.rcParams['figure.constrained_layout.use'] = True\n",
    "    mpl.rcParams['figure.figsize'] = [beamer_w*scale,beamer_h*scale]\n",
    "    mpl.rcParams['font.size'] = 8\n",
    "    mpl.rcParams['axes.labelsize'] = 8  # fontsize of the x and y labels\n",
    "    mpl.rcParams['xtick.labelsize'] = 8 # fontsize of the xtick labels\n",
    "    mpl.rcParams['ytick.labelsize'] = 8 # fontsize of the ytick labels\n",
    "    mpl.rcParams['axes.titlesize'] = 9 # fontsize of title above subplots\n",
    "    mpl.rcParams['legend.fontsize'] = 8 # legend fontsize"
   ]
  },
  {
   "cell_type": "code",
   "execution_count": 1,
   "metadata": {},
   "outputs": [],
   "source": [
    "def many_graphs():\n",
    "    plt.rcParams['figure.constrained_layout.use'] = True\n",
    "    mpl.rcParams['figure.figsize'] = [beamer_w*scale,beamer_h*scale]\n",
    "    mpl.rcParams['font.size'] = 8\n",
    "    mpl.rcParams['axes.labelsize'] = 6  # fontsize of the x and y labels\n",
    "    mpl.rcParams['xtick.labelsize'] = 6 # fontsize of the xtick labels\n",
    "    mpl.rcParams['ytick.labelsize'] = 6 # fontsize of the ytick labels\n",
    "    mpl.rcParams['axes.titlesize'] = 8 # fontsize of title above subplots\n",
    "    mpl.rcParams['legend.fontsize'] = 8 # legend fontsize"
   ]
  },
  {
   "cell_type": "code",
   "execution_count": null,
   "metadata": {},
   "outputs": [],
   "source": [
    "def long_graphs():\n",
    "    plt.rcParams['figure.constrained_layout.use'] = False\n",
    "    mpl.rcParams['figure.figsize'] = [beamer_h*scale,beamer_h*scale]\n",
    "    mpl.rcParams['font.size'] = 3\n",
    "    mpl.rcParams['axes.labelsize'] = 3  # fontsize of the x and y labels\n",
    "    mpl.rcParams['xtick.labelsize'] = 2 # fontsize of the xtick labels\n",
    "    mpl.rcParams['ytick.labelsize'] = 2 # fontsize of the ytick labels\n",
    "    mpl.rcParams['axes.titlesize'] = 3 # fontsize of title above subplots\n",
    "    mpl.rcParams['legend.fontsize'] = 3 # legend fontsize"
   ]
  }
 ],
 "metadata": {
  "kernelspec": {
   "display_name": "Python 3 (ipykernel)",
   "language": "python",
   "name": "python3"
  },
  "language_info": {
   "codemirror_mode": {
    "name": "ipython",
    "version": 3
   },
   "file_extension": ".py",
   "mimetype": "text/x-python",
   "name": "python",
   "nbconvert_exporter": "python",
   "pygments_lexer": "ipython3",
   "version": "3.8.16"
  }
 },
 "nbformat": 4,
 "nbformat_minor": 4
}
