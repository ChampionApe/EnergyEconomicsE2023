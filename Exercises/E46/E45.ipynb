{
 "cells": [
  {
   "cell_type": "markdown",
   "id": "16112381-8b5e-489f-9600-058e11246d08",
   "metadata": {},
   "source": [
    "# Exercise 13: A nonlinear version of `mBasicInt`\n",
    "\n",
    "In this exercise you will get familiar with non-linear energy system models. It is required that you have read the lecture note on non-linear energy system models.\n",
    "\n",
    "We will be working with a nonlinear version of the rather simple `mBasicInt` model."
   ]
  },
  {
   "cell_type": "markdown",
   "id": "ea265bce-65ec-441e-8b3d-abbc696ccd41",
   "metadata": {},
   "source": [
    "We start by importing standard packages:"
   ]
  },
  {
   "cell_type": "code",
   "execution_count": 1,
   "id": "8e314766-e596-4b6a-807f-857545ca655c",
   "metadata": {
    "tags": []
   },
   "outputs": [
    {
     "name": "stdout",
     "output_type": "stream",
     "text": [
      "The autoreload extension is already loaded. To reload it, use:\n",
      "  %reload_ext autoreload\n"
     ]
    }
   ],
   "source": [
    "%run ../stdPackages.ipynb\n",
    "from pyDbs import read, readSets, broadcast"
   ]
  },
  {
   "cell_type": "markdown",
   "id": "4d15cf28-a304-4aa5-90c7-72cfab9142b8",
   "metadata": {
    "tags": []
   },
   "source": [
    "For plotting, we use:"
   ]
  },
  {
   "cell_type": "code",
   "execution_count": 2,
   "id": "8bf4b005-d9b9-46f8-b6e0-5ac44e99c387",
   "metadata": {
    "tags": []
   },
   "outputs": [],
   "source": [
    "figs_path = os.path.join(d['curr'],'E46','Figs')\n",
    "%run Exercises/s_PaperPlotting.ipynb\n",
    "print_pgf()\n",
    "%matplotlib inline"
   ]
  },
  {
   "cell_type": "markdown",
   "id": "050b69d7-9005-4e08-8211-4e9601603965",
   "metadata": {},
   "source": [
    "`mBasicInt_NL` is the class you will be working for in this exercise. "
   ]
  },
  {
   "cell_type": "code",
   "execution_count": 3,
   "id": "4cb54c0a-c230-4c96-8c43-ed695b2f5598",
   "metadata": {
    "tags": []
   },
   "outputs": [],
   "source": [
    "from py.mBasicInt_NL import *"
   ]
  },
  {
   "cell_type": "markdown",
   "id": "35913111-0cff-4d5c-a88a-f88b34918289",
   "metadata": {
    "tags": []
   },
   "source": [
    "Finally, we will load in the database for the model. First, we specify the path to the data file:"
   ]
  },
  {
   "cell_type": "code",
   "execution_count": 4,
   "id": "aaaf8363-a5e3-4eb6-a985-71c034c984d9",
   "metadata": {
    "tags": []
   },
   "outputs": [],
   "source": [
    "path_to_data = os.path.join(d['curr'],'E46','Data','E46_Data.xlsx')"
   ]
  },
  {
   "cell_type": "markdown",
   "id": "742d54bd-9e93-4058-9a40-002c59061895",
   "metadata": {
    "tags": []
   },
   "source": [
    "We then specify the dictionary, which characterize the structure of the excel file:"
   ]
  },
  {
   "cell_type": "code",
   "execution_count": 5,
   "id": "490120f9-a4ce-4650-84da-6d81a1eeea0d",
   "metadata": {
    "tags": []
   },
   "outputs": [],
   "source": [
    "kwargs = {'variables': ['Fundamentals', 'Load', 'Generators_Other'],\n",
    "        'maps': ['Generators_Categories','hMaps'],\n",
    "        'variable2D': ['HourlyVariation','Generators_FuelMix'],\n",
    "        'scalars': ['Scalars']}"
   ]
  },
  {
   "cell_type": "markdown",
   "id": "bc741bb5-9f16-41cd-b211-a3a124c6f5ff",
   "metadata": {
    "tags": []
   },
   "source": [
    "Now we read in the data:"
   ]
  },
  {
   "cell_type": "code",
   "execution_count": 6,
   "id": "0132ab32-aee5-4f33-b0f6-e552546325cc",
   "metadata": {
    "tags": []
   },
   "outputs": [],
   "source": [
    "db = read.dbFromWB(path_to_data, kwargs)\n",
    "db.updateAlias(alias=[('h','h_alias')])\n",
    "readSets(db)"
   ]
  },
  {
   "cell_type": "markdown",
   "id": "732ee3b3-e031-479c-8788-a7ec7e40f323",
   "metadata": {
    "tags": []
   },
   "source": [
    "The model database, `db`, contains $H=$8760 hours and parameterizes a large-scale model. When developing a model it can be time consuming to check the correctness of the code if the model is large. For simplicity, we will in many cases work with a small-scale model with just $H=2$ hour and we create the small model database by slicing the large database.\n",
    "\n",
    "Note: While we could randomly choose $H=2$ hours, we will do choose the hours based on 10th and 90th percentiles of the expected price distribution."
   ]
  },
  {
   "cell_type": "code",
   "execution_count": 7,
   "id": "8f1091b6-1035-468e-b827-5ae9d6beff7a",
   "metadata": {
    "tags": []
   },
   "outputs": [],
   "source": [
    "# Compute the following variable that - for a given percentile - will have the same hour as for the residual demand curve:\n",
    "demand = (db['LoadVariation'] * db['Load']).droplevel('c')\n",
    "wind_cap = (adjMultiIndex.bc(db['GeneratingCapacity'], db['id2hvt']) * db['CapVariation']).dropna().xs('Wind',level='hvt').droplevel('id')\n",
    "res_d = (demand-wind_cap).astype(float)\n",
    "\n",
    "# Now get the hours\n",
    "new_h = pd.Index(np.sort([\n",
    "    res_d[res_d == res_d.quantile(0.1, interpolation='lower')].index[0],\n",
    "    res_d[res_d == res_d.quantile(0.9, interpolation='lower')].index[0]\n",
    "]),name='h').astype(int)"
   ]
  },
  {
   "cell_type": "markdown",
   "id": "7fca5b13-9f37-4785-8f3a-9970e98be513",
   "metadata": {
    "tags": []
   },
   "source": [
    "Note that we chosen the following four hours:"
   ]
  },
  {
   "cell_type": "code",
   "execution_count": 8,
   "id": "30a613d5-8b11-43f0-a111-1b819a10e5a0",
   "metadata": {
    "tags": []
   },
   "outputs": [
    {
     "data": {
      "text/plain": [
       "[3460, 5266]"
      ]
     },
     "execution_count": 8,
     "metadata": {},
     "output_type": "execute_result"
    }
   ],
   "source": [
    "new_h.tolist()"
   ]
  },
  {
   "cell_type": "markdown",
   "id": "f5328c82-0d1c-4477-a6ad-efa98a86211d",
   "metadata": {
    "tags": []
   },
   "source": [
    "Now we subset the large database:"
   ]
  },
  {
   "cell_type": "code",
   "execution_count": 9,
   "id": "3446a530-b66f-461f-9895-77b8bf91280c",
   "metadata": {
    "tags": []
   },
   "outputs": [],
   "source": [
    "# Now make the small database\n",
    "db_s = db.copy() # Make a copy of the database\n",
    "\n",
    "db_s['h'] = new_h.copy() # Add new the index\n",
    "db_s.updateAlias(alias=[('h','h_alias')]) # Update h_alias\n",
    "\n",
    "# Now subset variables, which depend on 'h':\n",
    "for var in db_s.variableDomains(set_='h',types=['variable']).keys():\n",
    "    db_s[var] = adj.rc_pd(db_s[var],new_h)"
   ]
  },
  {
   "cell_type": "markdown",
   "id": "fcd02155-2bc9-422d-bcfc-603199ef4c69",
   "metadata": {
    "tags": []
   },
   "source": [
    "# Part 1: Solving the small-scale model"
   ]
  },
  {
   "cell_type": "markdown",
   "id": "e7ec63ea-5af0-4878-b10a-fb1082a837ac",
   "metadata": {},
   "source": [
    "In this part of the exercise, you will be working with the small-scale model for building and solving a non-linear energy system model. Before building the non-linear model, however, let's have a look at the initialization of the class, `mSimpleNL`."
   ]
  },
  {
   "cell_type": "markdown",
   "id": "17bdf833-edb1-4f20-a8de-4873dbd052e3",
   "metadata": {},
   "source": [
    "The model initialization then consists of the following code-chunk:\n",
    "```python\n",
    "class mSimpleNL(): \n",
    "    def __init__(self, db):\n",
    "        self.db = db.copy()\n",
    "        mSimpleNL.updateDB(db) # <-- The model database is updated by adding a smoothing parameter (sigma) and a price vector. \n",
    "        self.db = db # <-- Assigns the model database to the class.\n",
    "        self.endo_vars = {'endo_vars':['p'],'theta_vars':[]} # <-- See Comment A)\n",
    "        self.idx_endo = {'p': range(0,len(self.db['h']))} # <-- See Comment B)\n",
    "        self.set_model_structure() # <-- This function sets class properties relating to the dimensions of the model.\n",
    "        self.set_model_parameters()\t# <-- This function sets model parameters (i.e. exogenous parameters)\n",
    "```\n",
    "Somme additional comments are warranted:\n",
    "\n",
    "*Comment A):* The keys of this dictionary are the endogenous variables (denoted _endo_vars_) and the endogenous parameters in a structural estimation (denoted _theta_vars_). The values are a list of variable names. For now, we will abstract from any estimation and therefore _theta_vars_ is just an empty list. This dictionary is really helpful, when the vector of endogenous variables consists of multiple variables. \n",
    "\n",
    "*Comment B):* _idx_endo_ specifies the index numbers of the endogenous numpy array. For instance: The endogenous price vector is indexed by the first $0:H$ hours."
   ]
  },
  {
   "cell_type": "markdown",
   "id": "e375b502-f6db-4770-97e2-11dc5e9789cf",
   "metadata": {},
   "source": [
    "Finally, let's have a look at the following function in the `mSimpleNL`-class:\n",
    "\n",
    "```python\n",
    "def xArray2pdSeries(self,x,variable='p'):\n",
    "    \"\"\" Method for transforming endogenous variables from a numpy array to an indexed Pandas Series \"\"\"\n",
    "    if variable in self.endo_vars['endo_var']+self.endo_vars['theta_var']:\n",
    "        return pd.Series(x[self.idx_endo[variable]],index=self.db[variable].index,name=variable) if (pyDbs.type_(self.db[variable])=='variable') else x[self.idx_endo[variable]] if (pyDbs.type_(self.db[variable])=='scalar') else None\n",
    "    else:\n",
    "        return self.db[variable]\n",
    "\n",
    "```\n",
    "\n",
    "The _xArray2pdSeries_-function converts the endogenous vector (a numpy array) to a pandas series with the correct index. Rather than being structured via numpy arrays, the model is structured via pandas series. This is less efficient than working with numpy arrays, but when working with (potentially) high-dimensional models the multindex-feature of pandas series greatly simplifies defining the structure of the model. Especially, when defining such models for the first time. "
   ]
  },
  {
   "cell_type": "markdown",
   "id": "3057741f-34cc-4eba-8507-98b3266f5cd5",
   "metadata": {},
   "source": [
    "We now iniatialize the model class:"
   ]
  },
  {
   "cell_type": "code",
   "execution_count": 10,
   "id": "a8fd7ab7-c248-4f9e-97d3-e6356b6d3a13",
   "metadata": {
    "tags": []
   },
   "outputs": [],
   "source": [
    "m = mSimpleNL(db_s)"
   ]
  },
  {
   "cell_type": "markdown",
   "id": "ed874042-4b9e-4001-bf99-076308161774",
   "metadata": {
    "tags": []
   },
   "source": [
    "To test the model we need a guess of the equilibrium price vector $\\mathbf{p}^*=(p_1^*,\\ldots,p_H^*)'$. We are going to denote it $p^0$ and just assume it is given by the average generation costs:\n",
    "\n",
    "\\begin{equation*}\n",
    "    \\overline{c} \\equiv \\frac{1}{N}\\sum_{i=1}^{N} \\overline{c}_i, \\qquad \\overline{c}_i\\equiv \\left(c^{\\text{other}}_i+\\sum_j \\mu_{i,j}p_j\\right)\n",
    "\\end{equation*}\n",
    "\n",
    "Note that $\\overline{c}_i$ is computed using the `averageMC`-property in the `mSimple`-class. Hence, we can compute $\\overline{c}$ as:"
   ]
  },
  {
   "cell_type": "code",
   "execution_count": 11,
   "id": "58afa140-5a8b-4027-8a02-f876d37186a5",
   "metadata": {
    "tags": []
   },
   "outputs": [],
   "source": [
    "p0 = np.repeat(m.averageMC.mean(),m.H)"
   ]
  },
  {
   "cell_type": "markdown",
   "id": "2e866df1-8221-4090-95a5-28e2d4b8c0f1",
   "metadata": {},
   "source": [
    "## E1.1"
   ]
  },
  {
   "cell_type": "markdown",
   "id": "6d91a8f8-c55c-4334-bbb6-63e21adb8bc2",
   "metadata": {
    "tags": []
   },
   "source": [
    "Consider an economy with a continuum of consumers. Each consumer is indexed by $k$ and the total mass of consumers is 1. By this, we mean that all consumers have a unique $k\\in[0,1]$. Consumers are heterogenous with respect to their marginal willingness to pay $(W)$, which is normally distributed with mean $w$ and variance $\\left(\\sigma^L\\right)^2$, i.e.\n",
    "\n",
    "$$W\\sim\\mathcal{N}\\left(w,\\left(\\sigma^L\\right)^2\\right)$$\n",
    "\n",
    "The marginal willingess to pay is unobserved by the researcher but known to the individual.\n",
    "\n",
    "Finally, each consumer demands either $D_h>0$ or zero if yhr marginal willinges to pay is larger than or equal to the electricity prices. In other words, the demand function for each consumer $k$ is \n",
    "\n",
    "\\begin{align}\n",
    " L_{h,k} =\\begin{cases}\n",
    " D_h, & W_k\\geq p_h \\\\\n",
    " 0, & W_k<p_h\n",
    " \\end{cases}\n",
    "\\end{align}\n",
    "\n",
    "\n",
    "__Show that the expected demand function is given by__\n",
    "\n",
    "$$L_h(p)=D_h\\Phi\\left(\\frac{w-p_h}{\\sigma^L}\\right)$$\n",
    "\n",
    "__where $\\Phi$ is the cdf of the standard normal distribution.__\n",
    "\n",
    "_Hint: First derive the expected demand of an individual consumer $k$. Then derive aggregate demand. Finally, you may note that $W=w+\\sigma^L Z$, where $Z$ is a standardized variable normally distributed, i.e. $Z\\sim\\mathcal{N}(0,1)$._"
   ]
  },
  {
   "cell_type": "markdown",
   "id": "b0d086df-c856-40ce-9566-f0a223da8bdd",
   "metadata": {},
   "source": [
    "## E1.2"
   ]
  },
  {
   "cell_type": "markdown",
   "id": "5e403190-7a85-45d8-bba6-e8038b8638e2",
   "metadata": {},
   "source": [
    "__Fill in the rest in the 'Load'-function below and add the function to the `mSimple_NL` class:__\n",
    "\n",
    "```python \n",
    "    def Load(self,x):\n",
    "\t\t\"\"\" Load/demand function \"\"\"\n",
    "\t\treturn ... # <-- fill in here.\n",
    "```\n",
    "\n",
    "__To ensure the function works, try computing $\\mathbf{L}(\\mathbf{p}^0)$. It should look something like this:__\n",
    "\n",
    "| h | Load |\n",
    "|:--------:|:--------:|\n",
    "|  3460   |  65.13   |\n",
    "|  5266   |  97.84   |\n",
    "\n",
    "_Hint: $\\Phi(\\cdot)$ can be computed using the [**norm.cdf**](https://docs.scipy.org/doc/scipy/reference/generated/scipy.stats.norm.html)-function._"
   ]
  },
  {
   "cell_type": "markdown",
   "id": "cfb6a6a2-57c2-4832-83f4-7629ddc237fa",
   "metadata": {
    "tags": []
   },
   "source": [
    "## E1.3"
   ]
  },
  {
   "cell_type": "markdown",
   "id": "a95f7038-2feb-4e3f-973d-982accfb8452",
   "metadata": {},
   "source": [
    "__Make a smooth supply function. You should add the following function and fill in the rest in the `mSimpleNL`-class:__\n",
    "```python\n",
    "def Supply(self,x):\n",
    "\t\"\"\" Smooth supply function \"\"\"\n",
    "\tInner = pd.Series(0,index=self.id2h).add(self.xArray2pdSeries(x,variable='p')).sub(self.averageMC).div(self.xArray2pdSeries(x,variable='p'))\n",
    "\treturn ... # <-- fill in here.\n",
    "```\n",
    "*Note: The function should return the smoothed vector-valued supply function $\\mathbf{S}(\\mathbf{p})$, which for a given hour is given by*\n",
    "\n",
    "\n",
    "\\begin{equation}\n",
    "    S_h(p_h) = \\sum_i q_i\\Phi\\left(\\frac{p_h-mc_i}{\\sigma^E}\\right)\n",
    "\\end{equation}\n",
    "\n",
    "__To ensure the function works, try computing $S(p^0)$. It should look something like this:__\n",
    "\n",
    "| h | Supply |\n",
    "|:--------:|:--------:|\n",
    "|  3460   |  46.63   |\n",
    "|  5266 |  37.79   |\n",
    "\n",
    "_Hint: Note that the variable \"Inner\" in the \"Supply\"-function above is $\\frac{\\mathbf{p}-\\mathbf{mc}}{\\sigma}$._"
   ]
  },
  {
   "cell_type": "markdown",
   "id": "2487c183-f27c-4826-be44-35f75dbaa847",
   "metadata": {
    "tags": []
   },
   "source": [
    "## E1.4"
   ]
  },
  {
   "cell_type": "markdown",
   "id": "f5c9dc67-917f-451c-b479-4629ed80c735",
   "metadata": {},
   "source": [
    "__Add an excess demand function to `mSimpleNL`. You should copy and fill the rest:__\n",
    "```python\n",
    "def ExcessDemand(self,x):\n",
    "\t\"\"\" Equilibrium indentity defined as excess demand\"\"\"\n",
    "\treturn ... # <-- fill in here.\n",
    "```\n",
    "*Note: The function should return*\n",
    "\n",
    "\\begin{equation}\n",
    "\\mathbf{ED}(\\mathbf{p}) = \\mathbf{L}(\\mathbf{p})-\\mathbf{S}(\\mathbf{p})\n",
    "\\end{equation}\n",
    "\n",
    "__Finally, try computing $\\mathbf{ED}(\\mathbf{p}^0)$ to ensure the function works. It should something like this:__\n",
    "\n",
    "| h | Excess Demand |\n",
    "|:--------:|:--------:|\n",
    "|  3460  |  18.50   |\n",
    "|  5266   |  60.04   |"
   ]
  },
  {
   "cell_type": "markdown",
   "id": "d9a2b327-8967-4ceb-80d7-f02c4aa4f829",
   "metadata": {
    "tags": []
   },
   "source": [
    "## E1.5"
   ]
  },
  {
   "cell_type": "markdown",
   "id": "a079bca8-aa88-4951-a99b-522596fb640d",
   "metadata": {
    "tags": []
   },
   "source": [
    "In this question, you are asked to comment on two graphs: The first is the supply and demand curve for each hour. The second if the excess demand function in each hour. \n",
    "\n",
    "__Specifically, comment on the equilibrium in each hour.__"
   ]
  },
  {
   "cell_type": "markdown",
   "id": "1854f5f1-368a-457f-90f0-6a9fe0572d7a",
   "metadata": {
    "tags": []
   },
   "source": [
    "We will start out by making a price grid to draw the function of this grid:"
   ]
  },
  {
   "cell_type": "code",
   "execution_count": 16,
   "id": "4b6a5980-4121-4eac-9bc4-5935742bf779",
   "metadata": {
    "tags": []
   },
   "outputs": [],
   "source": [
    "grid_size = 100\n",
    "p_min, p_max = 0, db['meanMWP']*1.4\n",
    "p_grid = np.linspace(p_min,p_max,grid_size).repeat(m.H).reshape(grid_size,m.H) "
   ]
  },
  {
   "cell_type": "markdown",
   "id": "bf9cf64f-667b-46d8-b19f-e8ed430aed05",
   "metadata": {},
   "source": [
    "Now we compute the supply over each grid point:"
   ]
  },
  {
   "cell_type": "code",
   "execution_count": 17,
   "id": "31ef49d4-6069-4734-9770-2b33b3c62411",
   "metadata": {
    "tags": []
   },
   "outputs": [],
   "source": [
    "S = pd.Series(\n",
    "    np.array([m.Supply(x).values for x in p_grid]).flatten(),\n",
    "    index=pd.MultiIndex.from_product([p_grid.mean(axis=1),m.db['h'].tolist()],names=['p','h']),\n",
    "    name=r'Supply'\n",
    ")"
   ]
  },
  {
   "cell_type": "markdown",
   "id": "5f59612e-59f3-4f66-9561-dace886380ef",
   "metadata": {
    "tags": []
   },
   "source": [
    "We can also compute the merit order curve:"
   ]
  },
  {
   "cell_type": "code",
   "execution_count": 18,
   "id": "f86a57ee-d349-4722-b7b8-d33eeeab7c6d",
   "metadata": {
    "tags": []
   },
   "outputs": [],
   "source": [
    "ϵ = np.finfo(float).eps*1e8\n",
    "S_moc = pd.concat([m.hourlyGeneratingCapacity.rename('q'),adjMultiIndex.bc(m.averageMC,m.db['h']).rename('p')],axis=1)\n",
    "lo_point = pd.DataFrame(0,index=pd.MultiIndex.from_product([['_lo'],new_h],names=['id','h']),columns=['q','p'])\n",
    "up_point = np.zeros((len(new_h),2))\n",
    "up_point[:,0] = ϵ\n",
    "up_point[:,1] = p_max#+ϵ\n",
    "up_point = pd.DataFrame(up_point,index=pd.MultiIndex.from_product([['_up'],new_h],names=['id','h']),columns=['q','p'])\n",
    "S_moc = pd.concat([S_moc,lo_point,up_point],axis=0).sort_values(by=['h','p'])\n",
    "S_moc['Supply'] = S_moc.groupby('h')['q'].cumsum()\n",
    "S_moc = S_moc.reset_index().set_index(['p','h'])['Supply']"
   ]
  },
  {
   "cell_type": "markdown",
   "id": "55f1d01a-3aa6-45ab-89d3-fb6cbbf2ab76",
   "metadata": {
    "tags": []
   },
   "source": [
    "The perfectly inelastic demand is given by:"
   ]
  },
  {
   "cell_type": "code",
   "execution_count": 19,
   "id": "e2eb1ee2-a762-4e0a-b51d-4c0d7511c1e8",
   "metadata": {
    "tags": []
   },
   "outputs": [],
   "source": [
    "# Smooth\n",
    "D = pd.Series(\n",
    "    np.array([m.Load(x).values for x in p_grid]).flatten(),\n",
    "    index=pd.MultiIndex.from_product([p_grid.mean(axis=1),m.db['h'].tolist()],names=['p','h']),\n",
    "    name=r'Supply'\n",
    ")\n",
    "# Non-smooth\n",
    "D_moc = pd.concat([m.hourlyDemand_c.rename('q'),adjMultiIndex.bc(m.db['meanMWP'],m.hourlyDemand_c.index).rename('p')],axis=1)\n",
    "D_lo = D_moc.copy()\n",
    "D_lo.index = pd.MultiIndex.from_product([['_lo'],new_h],names=['c','h'])\n",
    "D_lo['p'] = 0\n",
    "D_lo['q'] = D_lo['q']+ϵ\n",
    "D_up = D_moc.copy()\n",
    "D_up.index =pd.MultiIndex.from_product([['_up'],new_h],names=['c','h'])\n",
    "D_up['p'] = D_up['p']+ϵ\n",
    "D_up['q'] = ϵ\n",
    "D_up2 = D_moc.copy()\n",
    "D_up2.index =pd.MultiIndex.from_product([['_up'],new_h],names=['c','h'])\n",
    "D_up2['p'] = p_max\n",
    "D_up2['q'] = 0\n",
    "D_moc = pd.concat([D_moc,D_lo,D_up,D_up2],axis=0).sort_values(by=['h','p'],ascending=True)\n",
    "# D_moc['Demand'] = D_moc.groupby('h')['q'].cumsum()\n",
    "D_moc = D_moc.reset_index().set_index(['p','h'])['q']"
   ]
  },
  {
   "cell_type": "markdown",
   "id": "7aae530e-c7e7-4465-9177-39316dbbbd29",
   "metadata": {
    "tags": []
   },
   "source": [
    "Now we plot the supply and demand curves:"
   ]
  },
  {
   "cell_type": "code",
   "execution_count": 20,
   "id": "1ae3946a-4ee8-47b6-bdb6-9af7cbfe76d6",
   "metadata": {
    "tags": []
   },
   "outputs": [
    {
     "data": {
      "image/png": "[encoded data removed]",
      "text/plain": [
       "<Figure size 405.512x220.472 with 2 Axes>"
      ]
     },
     "metadata": {},
     "output_type": "display_data"
    }
   ],
   "source": [
    "two_graphs()\n",
    "fig, ax = plt.subplots(ncols=2,sharex=True,sharey=True)\n",
    "titles = [r'$h=$'+str(x) for x in m.db['h']]\n",
    "S.unstack('h').plot(subplots=True,ax=ax,color='red',title=titles,xlabel=r'$p_h$',ylabel=r'$S_h(p_h)$',legend=False)\n",
    "S_moc.unstack('h').plot(drawstyle=\"steps-post\",subplots=True,ax=ax,color='red',linestyle='--',legend=False)\n",
    "D.unstack('h').plot(subplots=True,ax=ax,color='blue',legend=False)\n",
    "D_moc.unstack('h').plot(subplots=True,ax=ax,color='blue',linestyle='--',legend=False)\n",
    "[ax[i].set_xlim(right=db['meanMWP']+5) for i in range(2)];\n",
    "[ax[i].set_xlabel(r'$p_h$') for i in range(2)];\n",
    "fig.legend([r'$S_h(p_h)$'+', '+r'$\\sigma^E=$'+str(m.db['sigma_E']),'Merit order supply',r'$L_h(p_h)$'+', '+r'$\\sigma^L=$'+str(m.db['sigma_L']),'Merit order demand'],loc='lower center', bbox_to_anchor=(0.55, -0.25), ncol=2, frameon=True)\n",
    "fig.savefig(f\"{figs_path}\\\\Smooth_equilibrium.pgf\", edgecolor='k',bbox_inches='tight')"
   ]
  },
  {
   "cell_type": "markdown",
   "id": "cb633580-45da-4788-87b9-2975850c6261",
   "metadata": {
    "tags": []
   },
   "source": [
    "Now we plot the excess demand functions:"
   ]
  },
  {
   "cell_type": "code",
   "execution_count": 21,
   "id": "e400cb1f-3713-4664-bad0-ecd4418416f5",
   "metadata": {
    "tags": []
   },
   "outputs": [
    {
     "data": {
      "text/plain": [
       "<matplotlib.legend.Legend at 0x1da70593fd0>"
      ]
     },
     "execution_count": 21,
     "metadata": {},
     "output_type": "execute_result"
    },
    {
     "data": {
      "image/png": "[encoded data removed]",
      "text/plain": [
       "<Figure size 405.512x220.472 with 2 Axes>"
      ]
     },
     "metadata": {},
     "output_type": "display_data"
    }
   ],
   "source": [
    "two_graphs()\n",
    "fig, ax = plt.subplots(ncols=2,sharex=True,sharey=True)\n",
    "titles = [r'$h=$'+str(x) for x in m.db['h']]\n",
    "(D-S).unstack('h').plot(subplots=True,ax=ax,color='red',title=titles,ylabel=r'$ED_h(p_h)$',label='ED',legend=False)\n",
    "x = pd.concat([D_moc.rename('Demand'),S_moc],axis=1).sort_index(level=['h','p']).groupby('h').ffill()\n",
    "(x['Demand']-x['Supply']).unstack('h').plot(drawstyle=\"steps-post\",subplots=True,ax=ax,color='red',linestyle='--',legend=False)\n",
    "(D*0).unstack('h').plot(subplots=True,ax=ax,color='black',linestyle='--',legend=False)\n",
    "[ax[i].set_xlim(right=db['meanMWP']+5) for i in range(2)];\n",
    "[ax[i].set_xlabel(r'$p_h$') for i in range(2)];\n",
    "fig.legend([r'$ED(p)$'+', '+r'$\\sigma_E=$'+str(m.db['sigma_E']),'ED$-$Merit order curve',r'$ED=0$'],loc='lower center', bbox_to_anchor=(0.5, -0.2), ncol=3, frameon=True)"
   ]
  },
  {
   "cell_type": "markdown",
   "id": "4c314b11-cf41-4337-9cc1-a6c50843958f",
   "metadata": {
    "tags": []
   },
   "source": [
    "## E1.6"
   ]
  },
  {
   "cell_type": "markdown",
   "id": "ffb27828-c15a-4bb5-8791-3ce4c33b9551",
   "metadata": {
    "tags": []
   },
   "source": [
    "You will soon be asked to compute the equilibrium price vector. To do this, we will start by doing this by writing a wrapper around `SCIPY`'s [fsolve](https://docs.scipy.org/doc/scipy/reference/generated/scipy.optimize.fsolve.html)-function. The fsolve function just compute the solution to a sqaure system of nonlinear equations. \n",
    "\n",
    "You should add the following function to `mBasicInt` and fill in the \"func\"-argument in the _fsolve_-function:\n",
    "\n",
    "```python\n",
    "\tdef ScipySolver(self,p0=None,maxiter=0):\n",
    "\t\t\"\"\" A wrapper around Scipy's fsolve function\"\"\"\n",
    "\t\tif p0 is None:\n",
    "\t\t\tp0 = self.db['p'].values # <-- If the user does not provide an initial quess for p*, we will manually assign one.\n",
    "\t\tsol = fsolve(func=lambda x: ..., x0=p0,full_output=True,maxfev=maxiter) # <-- fill in the dots\n",
    "\t\tprint(sol[-1])\n",
    "\t\tif sol[-1]=='The solution converged.':\n",
    "\t\t\tp_star = sol[0]\n",
    "\t\t\tself.unloadSolutionToDB(p_star)\n",
    "```\n",
    "*Note: The function your are asked to provide is the equilibrium identity. The easiest approach is to provide a lambda-expression).*\n",
    "\n",
    "__Finally, run the function using p0 as the initial guess. You should get something like this:__\n",
    "\n",
    "| h | Excess Demand |\n",
    "|:--------:|:--------:|\n",
    "|  3460  |  11.17   |\n",
    "|  5266   |  21.84   |"
   ]
  },
  {
   "cell_type": "markdown",
   "id": "1a5e7418-a655-4a36-b82c-8de1c4d435b6",
   "metadata": {},
   "source": [
    "# Part 2: Estimating a slightly larger but still small-scale model"
   ]
  },
  {
   "cell_type": "markdown",
   "id": "8ff6aea4-ecad-479a-8a49-0b2a4295cf41",
   "metadata": {},
   "source": [
    "In this part of the exercise, we will be estimating a slightly larger non-linear model. Specifically, we will do a structural estimation by fitting the predicted prices of the model with actual prices. The class `mEstimateNL` defines the structural estimation:\n",
    "\n",
    "```python\n",
    "\n",
    "class mEstimateNL(mSimpleNL):\n",
    "\t\"\"\" A class for estimating a non-linear energy system model\"\"\"\n",
    "\tdef __init__(self, db):\n",
    "\t\tsuper().__init__(db)\n",
    "\t\tself.theta_vars = ['sigma_E','OtherMC']\n",
    "\t\tself.endo_vars = {\n",
    "\t\t\t'endo_var':['p'],\n",
    "\t\t\t'theta_var':self.theta_vars.copy()\n",
    "\t\t}\n",
    "\t\tself.idx_endo = {\n",
    "\t\t\t'p': range(0,len(self.db['h'])),\n",
    "\t\t\t'sigma_E':len(self.db['h']),\n",
    "\t\t\t'OtherMC': range(len(self.db['h']) + 1 , len(self.db['h']) + len(self.db['OtherMC']) + 1)\n",
    "\t\t}\n",
    "```\n",
    "\n",
    "In doing so, we will estimate the other operating and maintenance costs $(c_{i}^{\\text{other}})$ and the smoothing parameter $\\sigma^E$. Since $c_i^{\\text{other}}$ affects $c_i$ and $\\sigma^E$ affects the supply, we have to update these two. We have therefore added the two following functions to the class:\n",
    "\n",
    "\n",
    "```python\n",
    "    def averageMC(self,x):\n",
    "\t\t\"\"\" average marginal generation costs\"\"\"\n",
    "\t\treturn self.xArray2pdSeries(x,variable='OtherMC').add((pyDbs.pdSum((self.xArray2pdSeries(x,variable='FuelMix') * self.fuelCost).dropna(), 'BFt')),fill_value=0).astype(float)\t\n",
    "\n",
    "\tdef Supply(self,x):\n",
    "\t\t\"\"\" Smooth supply function \"\"\"\n",
    "\t\tInner = pd.Series(0,index=self.id2h).add(self.xArray2pdSeries(x,variable='p')).sub(self.averageMC(x)).div(self.xArray2pdSeries(x,variable='sigma_E'))\n",
    "\t\treturn (self.hourlyGeneratingCapacity * Inner.apply(norm.cdf)).groupby('h').sum()\n",
    "```\n",
    "\n",
    "We consider the following Maximum Likelihood estimation\n",
    "\n",
    "\\begin{align}\n",
    "    \\max_{\\mathbf{\\theta}} \\log L(\\mathbf{\\theta})  &\\propto \\sum_h \\ln\\left(\\phi\\left( p_h-\\hat{p}_h \\right)\\right) \\\\\n",
    "    &\\text{s.t.} \\\\\n",
    "    \\mathbf{ED}(\\mathbf{p}) &=0\n",
    "\\end{align}\n",
    "\n",
    "where $p_h$ is data, $\\hat{p}_h$ is the model-simulated prices, and $\\phi$ is the pdf of the normal distribution. Note that $\\log L(\\mathbf{\\theta}))$ is computed in the following function in the `mEstimateNL`-class:\n",
    "\n",
    "```python\n",
    "def logLikelihood(self,x,data):\n",
    "    \"\"\" log-likehood objective function in estimation algorithm\"\"\"\n",
    "    return np.log(norm.pdf(data-x[self.idx_endo['p']])).sum()\n",
    "```\n",
    "\n",
    "Finally, we implement the constrained Maximum Likelihood estimation using Scipy's [__minimize__](https://docs.scipy.org/doc/scipy/reference/generated/scipy.optimize.minimize.html)-function:\n",
    "\n",
    "```python\n",
    "def ConstrainedMLE(self,data,theta0=None,p0=None,maxiter=100,constraints=None):\n",
    "\t\t\"\"\"Estimation algorithm formulated as a constrained Maximum Likelihood Estimation (MLE)\"\"\"\n",
    "\t\t# Initial guess of parameter vector\n",
    "\t\tif theta0 is None:\n",
    "\t\t\ttheta0 = np.concatenate([self.db[var].values.astype(float) if pyDbs.type_(self.db[var])=='variable' else np.array([float(self.db[var])]) if pyDbs.type_(self.db[var])=='scalar' else None for var in self.endo_vars['theta_var']]).ravel().astype(float)\n",
    "\t\t# Initial guess of price vector\n",
    "\t\tif p0 is None:\n",
    "\t\t\tp0 = self.db['p'].values\n",
    "\t\tx0 = np.append(p0,theta0)\n",
    "\t\t# Solution\n",
    "\t\tsol = minimize(\n",
    "\t\t\tfun = lambda x: self.logLikelihood(x,data=data),\n",
    "\t\t\tx0 = x0,\n",
    "\t\t\tconstraints = [{'type':'eq','fun':self.ExcessDemand}],\n",
    "\t\t\toptions = {'maxiter':maxiter}\n",
    "\t\t)\n",
    "\t\tprint(sol['message'])\n",
    "\t\tif sol['success']:\n",
    "\t\t\tself.x = sol['x']\n",
    "\t\t\tself.theta_hat = sol['x'][range(len(self.db['h']),max(self.idx_endo[self.endo_vars['theta_var'][-1]])+1)]\n",
    "\t\t\tself.unloadSolutionToDB(self.x)\n",
    "```"
   ]
  },
  {
   "cell_type": "markdown",
   "id": "bb1205e1-770e-4827-9fb1-a90d416b7d7e",
   "metadata": {},
   "source": [
    "We start by downloading data for Danish prices in 2022:"
   ]
  },
  {
   "cell_type": "code",
   "execution_count": 25,
   "id": "9e80bca5-623f-4d32-88de-a03f0960616f",
   "metadata": {},
   "outputs": [],
   "source": [
    "data_dir = os.path.abspath(os.path.join(os.getcwd(),'DownloadDataForDK','CleanedData','SpotPrices_DELUDK1DK2NLNO2SE3SE4_2022'))\n",
    "data_raw = pd.read_pickle(data_dir)"
   ]
  },
  {
   "cell_type": "markdown",
   "id": "40ffde2b-641f-46a8-a3cd-ed0373440453",
   "metadata": {},
   "source": [
    "In stead of fitting prices for the entire year, we just fit a representative week:"
   ]
  },
  {
   "cell_type": "code",
   "execution_count": 26,
   "id": "f0720a25-1a4f-4186-9000-69a2e61a28cc",
   "metadata": {},
   "outputs": [],
   "source": [
    "data = data_raw[data_raw['g_E'].str.find('DK')!=-1].copy()\n",
    "g_cols = ['Week','HourOfTheDay','h']\n",
    "data['h2'] = data.groupby(['HourOfTheDay']).grouper.group_info[0]+1\n",
    "h_map = data[['h','h2']].drop_duplicates().reset_index(drop=True).sort_values(by='h').set_index('h')['h2']\n",
    "data = data.groupby('h2')['SpotPrice_€/MWh'].mean().div(3.6).rename('p_data').rename_axis('h')"
   ]
  },
  {
   "cell_type": "markdown",
   "id": "15600581-8994-4a16-8e86-167f49b63b60",
   "metadata": {
    "tags": []
   },
   "source": [
    "Now we need to slice and aggregate the large database accordingly:"
   ]
  },
  {
   "cell_type": "code",
   "execution_count": 27,
   "id": "b3f109ff-3a59-49f6-ad8e-59de9e89d2df",
   "metadata": {
    "tags": []
   },
   "outputs": [],
   "source": [
    "# Now make the small database\n",
    "db_est = db.copy() # Make a copy of the database\n",
    "\n",
    "# Now subset variables, which depend on 'h':\n",
    "for var in db_est.variableDomains(set_='h',types=['variable']).keys(): \n",
    "    x = db_est[var].rename(h_map.to_dict(),level='h',axis=0)\n",
    "    db_est[var] = x.groupby(x.index.names).sum()\n",
    "    \n",
    "db_est['h'] = pd.Index(h_map.sort_values().unique(),name='h') # Add new the index\n",
    "db_est.updateAlias(alias=[('h','h_alias')]) # Update h_alias\n",
    "\n",
    "# Updating maximum MWP\n",
    "db_est['meanMWP'] = 100"
   ]
  },
  {
   "cell_type": "markdown",
   "id": "270f7d1c-9c44-4eff-9e5a-cf72d257be07",
   "metadata": {},
   "source": [
    "Finally, for finding good starting values, we will be the solution from the standard LP framework in the `mBasicInt` class. "
   ]
  },
  {
   "cell_type": "code",
   "execution_count": 28,
   "id": "fbb5be33-f4bc-4389-b78a-38f667c6bd0d",
   "metadata": {
    "tags": []
   },
   "outputs": [
    {
     "name": "stdout",
     "output_type": "stream",
     "text": [
      "Solution status 0: Optimization terminated successfully. (HiGHS Status 7: Optimal)\n"
     ]
    }
   ],
   "source": [
    "# Importing packages:\n",
    "os.chdir(d['py'])\n",
    "from mBasicInt import *\n",
    "os.chdir(d['curr'])\n",
    "\n",
    "# Renaming MWP:\n",
    "db_est['MWP'] = db_est['meanMWP']\n",
    "\n",
    "# Initializing, solving, and extracting prices:\n",
    "m_LP = mSimple(db_est)\n",
    "m_LP()\n",
    "p0 = m_LP.db['marginalSystemCosts']"
   ]
  },
  {
   "cell_type": "markdown",
   "id": "70c442ad-7735-4ca9-b693-68068b658c19",
   "metadata": {},
   "source": [
    "Now we initialize the non-linear class on the larger model database:"
   ]
  },
  {
   "cell_type": "code",
   "execution_count": 29,
   "id": "64c06dbc-3c93-4a8a-90d0-417ff1359048",
   "metadata": {},
   "outputs": [],
   "source": [
    "m_est = mEstimateNL(db_est)"
   ]
  },
  {
   "cell_type": "markdown",
   "id": "17517daf-64e7-4bb5-b5f8-146806c9bf13",
   "metadata": {},
   "source": [
    "And then we first compute equilibrium price vector:"
   ]
  },
  {
   "cell_type": "code",
   "execution_count": 30,
   "id": "ab041580-a9bf-4f04-b564-cf3e8f84eca5",
   "metadata": {},
   "outputs": [
    {
     "name": "stdout",
     "output_type": "stream",
     "text": [
      "The solution converged.\n"
     ]
    }
   ],
   "source": [
    "endo_vars = m_est.endo_vars.copy()\n",
    "m_est.endo_vars = {'endo_var':['p'],'theta_var': []}\n",
    "m_est.ScipySolver(p0=p0.values)\n",
    "p_star = m_est.db['p'].copy()"
   ]
  },
  {
   "cell_type": "markdown",
   "id": "e3524584-5731-40df-a020-6d4d1095229e",
   "metadata": {},
   "source": [
    "We can now estimate the model by running:"
   ]
  },
  {
   "cell_type": "code",
   "execution_count": 31,
   "id": "3c918749-dc0b-4006-b195-0bf439dedad0",
   "metadata": {},
   "outputs": [
    {
     "name": "stdout",
     "output_type": "stream",
     "text": [
      "Optimization terminated successfully\n"
     ]
    }
   ],
   "source": [
    "m_est.endo_vars = endo_vars\n",
    "m_est.ConstrainedMLE(p0=p_star.values,data=data.values,maxiter=1000)"
   ]
  },
  {
   "cell_type": "markdown",
   "id": "c6d46dd9-8623-4b5f-a82a-8463b4ad91ba",
   "metadata": {},
   "source": [
    "The estimated parameters are:"
   ]
  },
  {
   "cell_type": "code",
   "execution_count": 30,
   "id": "49166031-15fa-4244-9b03-aba4a7a6415d",
   "metadata": {
    "tags": []
   },
   "outputs": [
    {
     "data": {
      "text/html": [
       "<div>\n",
       "<style scoped>\n",
       "    .dataframe tbody tr th:only-of-type {\n",
       "        vertical-align: middle;\n",
       "    }\n",
       "\n",
       "    .dataframe tbody tr th {\n",
       "        vertical-align: top;\n",
       "    }\n",
       "\n",
       "    .dataframe thead th {\n",
       "        text-align: right;\n",
       "    }\n",
       "</style>\n",
       "<table border=\"1\" class=\"dataframe\">\n",
       "  <thead>\n",
       "    <tr style=\"text-align: right;\">\n",
       "      <th></th>\n",
       "      <th></th>\n",
       "      <th>$\\theta$</th>\n",
       "    </tr>\n",
       "  </thead>\n",
       "  <tbody>\n",
       "    <tr>\n",
       "      <th>$\\sigma^E$</th>\n",
       "      <th></th>\n",
       "      <td>2.362117</td>\n",
       "    </tr>\n",
       "    <tr>\n",
       "      <th rowspan=\"4\" valign=\"top\">$c^{\\text{other}}$</th>\n",
       "      <th>id1</th>\n",
       "      <td>1.167076</td>\n",
       "    </tr>\n",
       "    <tr>\n",
       "      <th>id2</th>\n",
       "      <td>38.520903</td>\n",
       "    </tr>\n",
       "    <tr>\n",
       "      <th>id3</th>\n",
       "      <td>48.897367</td>\n",
       "    </tr>\n",
       "    <tr>\n",
       "      <th>id4</th>\n",
       "      <td>3.419501</td>\n",
       "    </tr>\n",
       "  </tbody>\n",
       "</table>\n",
       "</div>"
      ],
      "text/plain": [
       "                         $\\theta$\n",
       "$\\sigma^E$               2.362117\n",
       "$c^{\\text{other}}$ id1   1.167076\n",
       "                   id2  38.520903\n",
       "                   id3  48.897367\n",
       "                   id4   3.419501"
      ]
     },
     "execution_count": 30,
     "metadata": {},
     "output_type": "execute_result"
    }
   ],
   "source": [
    "mi = pd.MultiIndex.from_arrays([\n",
    "    [r'$\\sigma^E$',r'$c^{\\text{other}}$',r'$c^{\\text{other}}$',r'$c^{\\text{other}}$',r'$c^{\\text{other}}$'],\n",
    "    ['','id1','id2','id3','id4']\n",
    "])\n",
    "pd.Series(m_est.theta_hat,index=mi).rename(r'$\\theta$').to_frame()"
   ]
  },
  {
   "cell_type": "markdown",
   "id": "cc45fe97-4a98-4baa-8a53-07d694bc0e28",
   "metadata": {
    "tags": []
   },
   "source": [
    "Let's consider the estimated prices:"
   ]
  },
  {
   "cell_type": "code",
   "execution_count": 31,
   "id": "6af99da7-176d-4b6c-a8ea-90d690fee3bc",
   "metadata": {
    "tags": []
   },
   "outputs": [
    {
     "data": {
      "text/plain": [
       "<matplotlib.legend.Legend at 0x1b1363ac3d0>"
      ]
     },
     "execution_count": 31,
     "metadata": {},
     "output_type": "execute_result"
    },
    {
     "data": {
      "image/png": "[encoded data removed]",
      "text/plain": [
       "<Figure size 405.512x220.472 with 1 Axes>"
      ]
     },
     "metadata": {},
     "output_type": "display_data"
    }
   ],
   "source": [
    "fig, ax = plt.subplots()\n",
    "data.plot(ax=ax,label='data')\n",
    "m_est.db['p'].plot(ax=ax,label='after estimation')\n",
    "p_star.plot(ax=ax,label='before estimation')\n",
    "fig.legend()"
   ]
  },
  {
   "cell_type": "markdown",
   "id": "c6f64615-2be1-475c-8959-6e53b8d6b1bd",
   "metadata": {
    "tags": []
   },
   "source": [
    "__Why can the current model not replicate the price dip during the middle of the day, even though we can flexibly change the variable costs of generation?__"
   ]
  },
  {
   "cell_type": "code",
   "execution_count": null,
   "id": "13ed9a40-db30-45aa-b133-92ca75bf1c0a",
   "metadata": {},
   "outputs": [],
   "source": []
  }
 ],
 "metadata": {
  "kernelspec": {
   "display_name": "Python 3 (ipykernel)",
   "language": "python",
   "name": "python3"
  },
  "language_info": {
   "codemirror_mode": {
    "name": "ipython",
    "version": 3
   },
   "file_extension": ".py",
   "mimetype": "text/x-python",
   "name": "python",
   "nbconvert_exporter": "python",
   "pygments_lexer": "ipython3",
   "version": "3.9.7"
  }
 },
 "nbformat": 4,
 "nbformat_minor": 5
}
